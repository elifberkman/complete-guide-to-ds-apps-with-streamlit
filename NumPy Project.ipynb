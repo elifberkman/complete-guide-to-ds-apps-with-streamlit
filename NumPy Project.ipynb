{
 "cells": [
  {
   "cell_type": "markdown",
   "metadata": {},
   "source": [
    "# NumPy Exercises"
   ]
  },
  {
   "cell_type": "markdown",
   "metadata": {},
   "source": [
    "![Namespace Labs](../../../labs.png)"
   ]
  },
  {
   "cell_type": "code",
   "execution_count": 2,
   "metadata": {
    "ExecuteTime": {
     "end_time": "2023-06-11T11:08:29.706162Z",
     "start_time": "2023-06-11T11:08:26.567357900Z"
    }
   },
   "outputs": [],
   "source": [
    "import numpy as np"
   ]
  },
  {
   "cell_type": "code",
   "execution_count": 5,
   "metadata": {
    "ExecuteTime": {
     "end_time": "2023-06-11T11:09:02.664879900Z",
     "start_time": "2023-06-11T11:09:02.651909600Z"
    }
   },
   "outputs": [
    {
     "data": {
      "text/plain": "array([[33, 34, 35, 36],\n       [37, 38, 39, 40],\n       [41, 42, 43, 44],\n       [45, 46, 47, 48]])"
     },
     "execution_count": 5,
     "metadata": {},
     "output_type": "execute_result"
    }
   ],
   "source": [
    "# Create a NumPy array called mat four by four matrix from 33 to 49\n",
    "mat = np.arange(33,49).reshape(4,4)\n",
    "mat"
   ]
  },
  {
   "cell_type": "code",
   "execution_count": 6,
   "metadata": {
    "ExecuteTime": {
     "end_time": "2023-06-11T11:09:39.521076100Z",
     "start_time": "2023-06-11T11:09:39.496100300Z"
    }
   },
   "outputs": [
    {
     "data": {
      "text/plain": "15"
     },
     "execution_count": 6,
     "metadata": {},
     "output_type": "execute_result"
    }
   ],
   "source": [
    "# Display the position of the max item in mat\n",
    "np.argmax(mat)"
   ]
  },
  {
   "cell_type": "code",
   "execution_count": 7,
   "metadata": {
    "ExecuteTime": {
     "end_time": "2023-06-11T11:09:52.053741100Z",
     "start_time": "2023-06-11T11:09:52.039741600Z"
    }
   },
   "outputs": [
    {
     "data": {
      "text/plain": "0"
     },
     "execution_count": 7,
     "metadata": {},
     "output_type": "execute_result"
    }
   ],
   "source": [
    "# Display the position of the min item in mat\n",
    "np.argmin(mat)"
   ]
  },
  {
   "cell_type": "code",
   "execution_count": 8,
   "metadata": {
    "ExecuteTime": {
     "end_time": "2023-06-11T11:09:58.436149Z",
     "start_time": "2023-06-11T11:09:58.419148300Z"
    }
   },
   "outputs": [
    {
     "data": {
      "text/plain": "48"
     },
     "execution_count": 8,
     "metadata": {},
     "output_type": "execute_result"
    }
   ],
   "source": [
    "# Display the  max item in mat\n",
    "np.max(mat)"
   ]
  },
  {
   "cell_type": "code",
   "execution_count": 9,
   "metadata": {
    "ExecuteTime": {
     "end_time": "2023-06-11T11:10:03.877169400Z",
     "start_time": "2023-06-11T11:10:03.874169200Z"
    }
   },
   "outputs": [
    {
     "data": {
      "text/plain": "33"
     },
     "execution_count": 9,
     "metadata": {},
     "output_type": "execute_result"
    }
   ],
   "source": [
    "# Display the  min item in mat\n",
    "np.min(mat)"
   ]
  },
  {
   "cell_type": "code",
   "execution_count": 11,
   "metadata": {
    "ExecuteTime": {
     "end_time": "2023-06-11T11:10:35.603626600Z",
     "start_time": "2023-06-11T11:10:35.588610100Z"
    }
   },
   "outputs": [
    {
     "data": {
      "text/plain": "array([[49, 50, 51, 52],\n       [53, 54, 55, 56],\n       [57, 58, 59, 60],\n       [61, 62, 63, 64]])"
     },
     "execution_count": 11,
     "metadata": {},
     "output_type": "execute_result"
    }
   ],
   "source": [
    "# create a four by four array called mat2 from 49 to 65\n",
    "mat2 = np.arange(49,65).reshape(4,4)\n",
    "mat2"
   ]
  },
  {
   "cell_type": "code",
   "execution_count": 12,
   "metadata": {
    "ExecuteTime": {
     "end_time": "2023-06-11T11:10:43.393671Z",
     "start_time": "2023-06-11T11:10:43.376760300Z"
    }
   },
   "outputs": [
    {
     "data": {
      "text/plain": "array([[ 82,  84,  86,  88],\n       [ 90,  92,  94,  96],\n       [ 98, 100, 102, 104],\n       [106, 108, 110, 112]])"
     },
     "execution_count": 12,
     "metadata": {},
     "output_type": "execute_result"
    }
   ],
   "source": [
    "#add mat and mat2\n",
    "mat + mat2"
   ]
  },
  {
   "cell_type": "code",
   "execution_count": 13,
   "metadata": {
    "ExecuteTime": {
     "end_time": "2023-06-11T11:10:50.428291900Z",
     "start_time": "2023-06-11T11:10:50.412291500Z"
    }
   },
   "outputs": [
    {
     "data": {
      "text/plain": "array([[1617, 1700, 1785, 1872],\n       [1961, 2052, 2145, 2240],\n       [2337, 2436, 2537, 2640],\n       [2745, 2852, 2961, 3072]])"
     },
     "execution_count": 13,
     "metadata": {},
     "output_type": "execute_result"
    }
   ],
   "source": [
    "#Multiply mat and mat2\n",
    "mat * mat2"
   ]
  },
  {
   "cell_type": "code",
   "execution_count": 14,
   "metadata": {
    "ExecuteTime": {
     "end_time": "2023-06-11T11:10:57.093936600Z",
     "start_time": "2023-06-11T11:10:57.088876200Z"
    }
   },
   "outputs": [
    {
     "data": {
      "text/plain": "array([[-16, -16, -16, -16],\n       [-16, -16, -16, -16],\n       [-16, -16, -16, -16],\n       [-16, -16, -16, -16]])"
     },
     "execution_count": 14,
     "metadata": {},
     "output_type": "execute_result"
    }
   ],
   "source": [
    "#Substract mat and mat2\n",
    "mat - mat2"
   ]
  },
  {
   "cell_type": "code",
   "execution_count": 15,
   "metadata": {
    "ExecuteTime": {
     "end_time": "2023-06-11T11:12:26.757778200Z",
     "start_time": "2023-06-11T11:12:26.738780400Z"
    }
   },
   "outputs": [
    {
     "data": {
      "text/plain": "array([[33, 34, 35, 36],\n       [37, 38, 39, 40],\n       [41, 42, 43, 44],\n       [45, 46, 47, 48]])"
     },
     "execution_count": 15,
     "metadata": {},
     "output_type": "execute_result"
    }
   ],
   "source": [
    "# Find the modulus of  mat and mat2\n",
    "mat % mat2"
   ]
  },
  {
   "cell_type": "code",
   "execution_count": 16,
   "metadata": {
    "ExecuteTime": {
     "end_time": "2023-06-11T11:12:33.829417Z",
     "start_time": "2023-06-11T11:12:33.823411400Z"
    }
   },
   "outputs": [
    {
     "data": {
      "text/plain": "array([[33, 34, 35, 36],\n       [37, 38, 39, 40],\n       [41, 42, 43, 44],\n       [45, 46, 47, 48]])"
     },
     "execution_count": 16,
     "metadata": {},
     "output_type": "execute_result"
    }
   ],
   "source": [
    "mat"
   ]
  },
  {
   "cell_type": "code",
   "execution_count": 17,
   "metadata": {
    "ExecuteTime": {
     "end_time": "2023-06-11T11:12:38.649476400Z",
     "start_time": "2023-06-11T11:12:38.644476900Z"
    }
   },
   "outputs": [
    {
     "data": {
      "text/plain": "array([33, 34, 35, 36])"
     },
     "execution_count": 17,
     "metadata": {},
     "output_type": "execute_result"
    }
   ],
   "source": [
    "mat[0]"
   ]
  },
  {
   "cell_type": "code",
   "execution_count": 18,
   "metadata": {
    "ExecuteTime": {
     "end_time": "2023-06-11T11:13:00.576724200Z",
     "start_time": "2023-06-11T11:13:00.556717300Z"
    }
   },
   "outputs": [
    {
     "data": {
      "text/plain": "array([[33, 34],\n       [37, 38]])"
     },
     "execution_count": 18,
     "metadata": {},
     "output_type": "execute_result"
    }
   ],
   "source": [
    "mat[0:2, 0:2]"
   ]
  },
  {
   "cell_type": "code",
   "execution_count": 19,
   "metadata": {
    "ExecuteTime": {
     "end_time": "2023-06-11T11:13:48.450355Z",
     "start_time": "2023-06-11T11:13:48.421127900Z"
    }
   },
   "outputs": [
    {
     "data": {
      "text/plain": "array([[42, 43],\n       [46, 47]])"
     },
     "execution_count": 19,
     "metadata": {},
     "output_type": "execute_result"
    }
   ],
   "source": [
    "mat[2:,1:3]"
   ]
  },
  {
   "cell_type": "code",
   "execution_count": 20,
   "metadata": {
    "ExecuteTime": {
     "end_time": "2023-06-11T11:14:48.677066700Z",
     "start_time": "2023-06-11T11:14:48.668550900Z"
    }
   },
   "outputs": [
    {
     "data": {
      "text/plain": "array([[38, 39, 40],\n       [42, 43, 44]])"
     },
     "execution_count": 20,
     "metadata": {},
     "output_type": "execute_result"
    }
   ],
   "source": [
    "mat[1:3,1:]"
   ]
  },
  {
   "cell_type": "code",
   "execution_count": 21,
   "metadata": {
    "ExecuteTime": {
     "end_time": "2023-06-11T12:56:05.586564Z",
     "start_time": "2023-06-11T12:56:05.562018600Z"
    }
   },
   "outputs": [
    {
     "data": {
      "text/plain": "array([[33, 34, 35, 36],\n       [37, 38, 39, 40],\n       [41, 42, 43, 44],\n       [45, 46, 47, 48]])"
     },
     "execution_count": 21,
     "metadata": {},
     "output_type": "execute_result"
    }
   ],
   "source": [
    "mat"
   ]
  },
  {
   "cell_type": "code",
   "execution_count": 22,
   "metadata": {
    "ExecuteTime": {
     "end_time": "2023-06-11T12:56:31.904677400Z",
     "start_time": "2023-06-11T12:56:31.880139600Z"
    }
   },
   "outputs": [
    {
     "data": {
      "text/plain": "array([[33, 34, 35, 36],\n       [37, 38, 39, 40],\n       [40, 40, 40, 40],\n       [40, 40, 40, 40]])"
     },
     "execution_count": 22,
     "metadata": {},
     "output_type": "execute_result"
    }
   ],
   "source": [
    "# Clip all the items in mat to be between 30 and 40\n",
    "np.clip(mat, 30,40)"
   ]
  },
  {
   "cell_type": "code",
   "execution_count": 25,
   "metadata": {
    "ExecuteTime": {
     "end_time": "2023-06-11T12:58:49.612105Z",
     "start_time": "2023-06-11T12:58:49.602093700Z"
    }
   },
   "outputs": [
    {
     "data": {
      "text/plain": "array([10.        , 10.20408163, 10.40816327, 10.6122449 , 10.81632653,\n       11.02040816, 11.2244898 , 11.42857143, 11.63265306, 11.83673469,\n       12.04081633, 12.24489796, 12.44897959, 12.65306122, 12.85714286,\n       13.06122449, 13.26530612, 13.46938776, 13.67346939, 13.87755102,\n       14.08163265, 14.28571429, 14.48979592, 14.69387755, 14.89795918,\n       15.10204082, 15.30612245, 15.51020408, 15.71428571, 15.91836735,\n       16.12244898, 16.32653061, 16.53061224, 16.73469388, 16.93877551,\n       17.14285714, 17.34693878, 17.55102041, 17.75510204, 17.95918367,\n       18.16326531, 18.36734694, 18.57142857, 18.7755102 , 18.97959184,\n       19.18367347, 19.3877551 , 19.59183673, 19.79591837, 20.        ])"
     },
     "execution_count": 25,
     "metadata": {},
     "output_type": "execute_result"
    }
   ],
   "source": [
    "# Create an array that shows the ouptut below\n",
    "np.linspace(10,20,50)\n",
    "#np.linspace(10,20)"
   ]
  },
  {
   "cell_type": "code",
   "execution_count": 26,
   "metadata": {
    "ExecuteTime": {
     "end_time": "2023-06-11T12:59:08.870031600Z",
     "start_time": "2023-06-11T12:59:08.858029600Z"
    }
   },
   "outputs": [
    {
     "data": {
      "text/plain": "array([33, 34, 35, 36, 37, 38, 39, 40, 41, 42, 43, 44, 45, 46, 47, 48])"
     },
     "execution_count": 26,
     "metadata": {},
     "output_type": "execute_result"
    }
   ],
   "source": [
    "# Flatten the mat array\n",
    "mat.flatten()"
   ]
  },
  {
   "cell_type": "code",
   "execution_count": 27,
   "metadata": {
    "ExecuteTime": {
     "end_time": "2023-06-11T12:59:19.689286Z",
     "start_time": "2023-06-11T12:59:19.676280900Z"
    }
   },
   "outputs": [
    {
     "data": {
      "text/plain": "648"
     },
     "execution_count": 27,
     "metadata": {},
     "output_type": "execute_result"
    }
   ],
   "source": [
    "# Find the sum of the mat array\n",
    "np.sum(mat)"
   ]
  },
  {
   "cell_type": "code",
   "execution_count": 28,
   "metadata": {
    "ExecuteTime": {
     "end_time": "2023-06-11T12:59:51.689681600Z",
     "start_time": "2023-06-11T12:59:51.669316700Z"
    }
   },
   "outputs": [
    {
     "data": {
      "text/plain": "array([[False, False, False,  True],\n       [ True,  True,  True,  True],\n       [ True,  True,  True,  True],\n       [ True,  True,  True,  True]])"
     },
     "execution_count": 28,
     "metadata": {},
     "output_type": "execute_result"
    }
   ],
   "source": [
    "# Check for values greater than 35 in mat\n",
    "mat > 35"
   ]
  },
  {
   "cell_type": "code",
   "execution_count": 29,
   "metadata": {
    "ExecuteTime": {
     "end_time": "2023-06-11T13:00:02.832819400Z",
     "start_time": "2023-06-11T13:00:02.796630400Z"
    }
   },
   "outputs": [
    {
     "data": {
      "text/plain": "array([36, 37, 38, 39, 40, 41, 42, 43, 44, 45, 46, 47, 48])"
     },
     "execution_count": 29,
     "metadata": {},
     "output_type": "execute_result"
    }
   ],
   "source": [
    "# Print the values greater than 35\n",
    "mat[mat > 35]"
   ]
  },
  {
   "cell_type": "markdown",
   "metadata": {},
   "source": [
    "Happy Coding!"
   ]
  }
 ],
 "metadata": {
  "kernelspec": {
   "display_name": "Python 3",
   "language": "python",
   "name": "python3"
  },
  "language_info": {
   "codemirror_mode": {
    "name": "ipython",
    "version": 3
   },
   "file_extension": ".py",
   "mimetype": "text/x-python",
   "name": "python",
   "nbconvert_exporter": "python",
   "pygments_lexer": "ipython3",
   "version": "3.7.6"
  }
 },
 "nbformat": 4,
 "nbformat_minor": 4
}
