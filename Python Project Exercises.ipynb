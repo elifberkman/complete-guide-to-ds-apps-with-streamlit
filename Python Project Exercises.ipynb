{
 "cells": [
  {
   "cell_type": "markdown",
   "metadata": {},
   "source": [
    "# Python for Data Science Project Exercise"
   ]
  },
  {
   "cell_type": "markdown",
   "metadata": {},
   "source": [
    "![Namespace Labs](../../labs.png)"
   ]
  },
  {
   "cell_type": "markdown",
   "metadata": {},
   "source": [
    "# Arithmetic Operations"
   ]
  },
  {
   "cell_type": "code",
   "execution_count": 1,
   "metadata": {
    "ExecuteTime": {
     "end_time": "2023-06-10T20:57:23.812748300Z",
     "start_time": "2023-06-10T20:57:23.805069700Z"
    }
   },
   "outputs": [
    {
     "data": {
      "text/plain": "2"
     },
     "execution_count": 1,
     "metadata": {},
     "output_type": "execute_result"
    }
   ],
   "source": [
    "# Perform Integer division between 9 and 4\n",
    "9//4"
   ]
  },
  {
   "cell_type": "markdown",
   "metadata": {},
   "source": [
    "# Data Types"
   ]
  },
  {
   "cell_type": "markdown",
   "metadata": {},
   "source": [
    "## Lists"
   ]
  },
  {
   "cell_type": "code",
   "execution_count": 30,
   "metadata": {
    "ExecuteTime": {
     "end_time": "2023-06-10T21:06:04.858695Z",
     "start_time": "2023-06-10T21:06:04.842539500Z"
    }
   },
   "outputs": [],
   "source": [
    "movies = ['One','Two','Three','Four','Five','Six']"
   ]
  },
  {
   "cell_type": "code",
   "execution_count": 31,
   "metadata": {
    "ExecuteTime": {
     "end_time": "2023-06-10T21:06:05.078544100Z",
     "start_time": "2023-06-10T21:06:05.046742300Z"
    }
   },
   "outputs": [
    {
     "data": {
      "text/plain": "'Three'"
     },
     "execution_count": 31,
     "metadata": {},
     "output_type": "execute_result"
    }
   ],
   "source": [
    ";#Print Three only\n",
    "movies[2]"
   ]
  },
  {
   "cell_type": "code",
   "execution_count": 32,
   "metadata": {
    "ExecuteTime": {
     "end_time": "2023-06-10T21:06:05.220014800Z",
     "start_time": "2023-06-10T21:06:05.188740200Z"
    }
   },
   "outputs": [
    {
     "data": {
      "text/plain": "['Two', 'Three', 'Four']"
     },
     "execution_count": 32,
     "metadata": {},
     "output_type": "execute_result"
    }
   ],
   "source": [
    "# Print all the movies from Two to Four\n",
    "movies[1:4]"
   ]
  },
  {
   "cell_type": "code",
   "execution_count": 33,
   "metadata": {
    "ExecuteTime": {
     "end_time": "2023-06-10T21:06:05.405822200Z",
     "start_time": "2023-06-10T21:06:05.374577700Z"
    }
   },
   "outputs": [
    {
     "data": {
      "text/plain": "['Three', 'Four', 'Five', 'Six']"
     },
     "execution_count": 33,
     "metadata": {},
     "output_type": "execute_result"
    }
   ],
   "source": [
    "# Print all the movies from Three to the end\n",
    "movies[2:]"
   ]
  },
  {
   "cell_type": "code",
   "execution_count": 34,
   "metadata": {
    "ExecuteTime": {
     "end_time": "2023-06-10T21:06:05.531779600Z",
     "start_time": "2023-06-10T21:06:05.500519500Z"
    }
   },
   "outputs": [
    {
     "data": {
      "text/plain": "['One', 'Two', 'Three', 'Four', 'Five', 'Six']"
     },
     "execution_count": 34,
     "metadata": {},
     "output_type": "execute_result"
    }
   ],
   "source": [
    "# Display all the movies\n",
    "movies"
   ]
  },
  {
   "cell_type": "code",
   "execution_count": 35,
   "metadata": {
    "ExecuteTime": {
     "end_time": "2023-06-10T21:06:05.689229200Z",
     "start_time": "2023-06-10T21:06:05.673581Z"
    }
   },
   "outputs": [
    {
     "data": {
      "text/plain": "['Three', 'Four']"
     },
     "execution_count": 35,
     "metadata": {},
     "output_type": "execute_result"
    }
   ],
   "source": [
    "# Display Three and Four only\n",
    "movies[2:4]"
   ]
  },
  {
   "cell_type": "code",
   "execution_count": 36,
   "metadata": {
    "ExecuteTime": {
     "end_time": "2023-06-10T21:06:05.877659200Z",
     "start_time": "2023-06-10T21:06:05.845950300Z"
    }
   },
   "outputs": [],
   "source": [
    "# Replace Three and Four with Nine and Ten\n",
    "movies[2:4] = ['Nine', 'Ten']"
   ]
  },
  {
   "cell_type": "code",
   "execution_count": 37,
   "metadata": {
    "ExecuteTime": {
     "end_time": "2023-06-10T21:06:06.034963800Z",
     "start_time": "2023-06-10T21:06:06.003676100Z"
    }
   },
   "outputs": [
    {
     "data": {
      "text/plain": "['One', 'Two', 'Nine', 'Ten', 'Five', 'Six']"
     },
     "execution_count": 37,
     "metadata": {},
     "output_type": "execute_result"
    }
   ],
   "source": [
    "# Display all the movies\n",
    "movies"
   ]
  },
  {
   "cell_type": "code",
   "execution_count": 38,
   "metadata": {
    "ExecuteTime": {
     "end_time": "2023-06-10T21:06:06.209967500Z",
     "start_time": "2023-06-10T21:06:06.194313100Z"
    }
   },
   "outputs": [
    {
     "name": "stdout",
     "output_type": "stream",
     "text": [
      "One\n",
      "Two\n",
      "Nine\n",
      "Ten\n",
      "Five\n",
      "Six\n"
     ]
    }
   ],
   "source": [
    "# Print all the movies in the movie list\n",
    "for m in movies:\n",
    "    print(m)"
   ]
  },
  {
   "cell_type": "code",
   "execution_count": 39,
   "metadata": {
    "ExecuteTime": {
     "end_time": "2023-06-10T21:06:06.398900800Z",
     "start_time": "2023-06-10T21:06:06.359524800Z"
    }
   },
   "outputs": [
    {
     "data": {
      "text/plain": "['One', 'Two', 'Nine', 'Ten', 'Five', 'Six', 'Eleven']"
     },
     "execution_count": 39,
     "metadata": {},
     "output_type": "execute_result"
    }
   ],
   "source": [
    "# Add movie Eleven at the end of the list\n",
    "movies.append('Eleven')\n",
    "movies"
   ]
  },
  {
   "cell_type": "code",
   "execution_count": 40,
   "metadata": {
    "ExecuteTime": {
     "end_time": "2023-06-10T21:06:06.543653100Z",
     "start_time": "2023-06-10T21:06:06.512310Z"
    }
   },
   "outputs": [
    {
     "data": {
      "text/plain": "['One', 'Nine', 'Ten', 'Five', 'Six', 'Eleven']"
     },
     "execution_count": 40,
     "metadata": {},
     "output_type": "execute_result"
    }
   ],
   "source": [
    "# Remove Movie Two\n",
    "movies.remove('Two')\n",
    "movies"
   ]
  },
  {
   "cell_type": "code",
   "execution_count": 41,
   "metadata": {
    "ExecuteTime": {
     "end_time": "2023-06-10T21:06:06.717219100Z",
     "start_time": "2023-06-10T21:06:06.685830900Z"
    }
   },
   "outputs": [
    {
     "data": {
      "text/plain": "'Eleven'"
     },
     "execution_count": 41,
     "metadata": {},
     "output_type": "execute_result"
    }
   ],
   "source": [
    "#Print the last movie in the list without using indexing\n",
    "movies.pop()  # Remove and return  item at index (default last)"
   ]
  },
  {
   "cell_type": "code",
   "execution_count": 42,
   "metadata": {
    "ExecuteTime": {
     "end_time": "2023-06-10T21:06:06.891852600Z",
     "start_time": "2023-06-10T21:06:06.876198Z"
    }
   },
   "outputs": [
    {
     "data": {
      "text/plain": "5"
     },
     "execution_count": 42,
     "metadata": {},
     "output_type": "execute_result"
    }
   ],
   "source": [
    "# Print the length of the movies list\n",
    "len(movies)"
   ]
  },
  {
   "cell_type": "code",
   "execution_count": 43,
   "metadata": {
    "ExecuteTime": {
     "end_time": "2023-06-10T21:06:07.113898400Z",
     "start_time": "2023-06-10T21:06:07.086224900Z"
    }
   },
   "outputs": [
    {
     "data": {
      "text/plain": "['One', 'Nine', 'Ten', 'Five', 'Six']"
     },
     "execution_count": 43,
     "metadata": {},
     "output_type": "execute_result"
    }
   ],
   "source": [
    "movies"
   ]
  },
  {
   "cell_type": "code",
   "execution_count": 44,
   "metadata": {
    "ExecuteTime": {
     "end_time": "2023-06-10T21:06:07.680843400Z",
     "start_time": "2023-06-10T21:06:07.665206400Z"
    }
   },
   "outputs": [],
   "source": [
    "# check if \"Nine\" is in the movies list and print the movie\n",
    "#if it's in the list otherwise\n",
    "# Print movie not found. Do this in a function\n",
    "def check_movie(movie):\n",
    "    if movie in movies:\n",
    "        print(f'{movie} found')\n",
    "    else:\n",
    "        print(f'{movie} not found')"
   ]
  },
  {
   "cell_type": "code",
   "execution_count": 45,
   "metadata": {
    "ExecuteTime": {
     "end_time": "2023-06-10T21:06:07.879548Z",
     "start_time": "2023-06-10T21:06:07.863887200Z"
    }
   },
   "outputs": [
    {
     "name": "stdout",
     "output_type": "stream",
     "text": [
      "Nine found\n"
     ]
    }
   ],
   "source": [
    "check_movie('Nine')"
   ]
  },
  {
   "cell_type": "code",
   "execution_count": 46,
   "metadata": {
    "ExecuteTime": {
     "end_time": "2023-06-10T21:06:08.292517700Z",
     "start_time": "2023-06-10T21:06:08.276805800Z"
    }
   },
   "outputs": [
    {
     "name": "stdout",
     "output_type": "stream",
     "text": [
      "Some Movie not found\n"
     ]
    }
   ],
   "source": [
    "check_movie('Some Movie')"
   ]
  },
  {
   "cell_type": "code",
   "execution_count": 47,
   "metadata": {
    "ExecuteTime": {
     "end_time": "2023-06-10T21:06:08.617316700Z",
     "start_time": "2023-06-10T21:06:08.601398600Z"
    }
   },
   "outputs": [
    {
     "data": {
      "text/plain": "['One', 'Nine', 'Ten', 'Five', 'Six']"
     },
     "execution_count": 47,
     "metadata": {},
     "output_type": "execute_result"
    }
   ],
   "source": [
    "# Display the movies\n",
    "movies"
   ]
  },
  {
   "cell_type": "code",
   "execution_count": 48,
   "metadata": {
    "ExecuteTime": {
     "end_time": "2023-06-10T21:06:09.495656800Z",
     "start_time": "2023-06-10T21:06:09.480006600Z"
    }
   },
   "outputs": [
    {
     "data": {
      "text/plain": "False"
     },
     "execution_count": 48,
     "metadata": {},
     "output_type": "execute_result"
    }
   ],
   "source": [
    "#compare the name of Nine with nine\n",
    "movies[1] == 'nine'"
   ]
  },
  {
   "cell_type": "code",
   "execution_count": 49,
   "metadata": {
    "ExecuteTime": {
     "end_time": "2023-06-10T21:06:11.670383400Z",
     "start_time": "2023-06-10T21:06:11.650230600Z"
    }
   },
   "outputs": [],
   "source": [
    "# Delete the second movie completely\n",
    "del movies[1]"
   ]
  },
  {
   "cell_type": "code",
   "execution_count": 50,
   "metadata": {
    "ExecuteTime": {
     "end_time": "2023-06-10T21:06:12.071499100Z",
     "start_time": "2023-06-10T21:06:12.049844900Z"
    }
   },
   "outputs": [
    {
     "data": {
      "text/plain": "['One', 'Ten', 'Five', 'Six']"
     },
     "execution_count": 50,
     "metadata": {},
     "output_type": "execute_result"
    }
   ],
   "source": [
    "movies"
   ]
  },
  {
   "cell_type": "code",
   "execution_count": 51,
   "metadata": {
    "ExecuteTime": {
     "end_time": "2023-06-10T21:06:17.281078600Z",
     "start_time": "2023-06-10T21:06:17.265398500Z"
    }
   },
   "outputs": [],
   "source": [
    "# Delete the movies list\n",
    "del movies"
   ]
  },
  {
   "cell_type": "code",
   "execution_count": 52,
   "metadata": {
    "ExecuteTime": {
     "end_time": "2023-06-10T21:06:24.389061500Z",
     "start_time": "2023-06-10T21:06:24.343235600Z"
    }
   },
   "outputs": [
    {
     "ename": "NameError",
     "evalue": "name 'movies' is not defined",
     "output_type": "error",
     "traceback": [
      "\u001B[1;31m---------------------------------------------------------------------------\u001B[0m",
      "\u001B[1;31mNameError\u001B[0m                                 Traceback (most recent call last)",
      "Cell \u001B[1;32mIn[52], line 2\u001B[0m\n\u001B[0;32m      1\u001B[0m \u001B[38;5;66;03m# Display the movies\u001B[39;00m\n\u001B[1;32m----> 2\u001B[0m \u001B[43mmovies\u001B[49m\n",
      "\u001B[1;31mNameError\u001B[0m: name 'movies' is not defined"
     ]
    }
   ],
   "source": [
    "# Display the movies\n",
    "movies"
   ]
  },
  {
   "cell_type": "code",
   "execution_count": 53,
   "metadata": {
    "ExecuteTime": {
     "end_time": "2023-06-10T21:08:21.611390300Z",
     "start_time": "2023-06-10T21:08:21.595575800Z"
    }
   },
   "outputs": [
    {
     "data": {
      "text/plain": "{'One': ['Actor 1', 'Actor 2'],\n 'Two': ['Actor 3', 'Actor 4'],\n 'Nine': ['Actor 5', 'Actor 6'],\n 'Ten': ['Actor 7', 'Actor 8'],\n 'Five': ['Actor 9', 'Actor 10']}"
     },
     "execution_count": 53,
     "metadata": {},
     "output_type": "execute_result"
    }
   ],
   "source": [
    "# Use a dictionary to add two or more actors to every movie\n",
    "movies_and_actors = {\n",
    "    'One': ['Actor 1', 'Actor 2'],\n",
    "    'Two': ['Actor 3', 'Actor 4'],\n",
    "    'Nine': ['Actor 5', 'Actor 6'],\n",
    "    'Ten': ['Actor 7', 'Actor 8'],\n",
    "    'Five': ['Actor 9', 'Actor 10']\n",
    "}\n",
    "movies_and_actors"
   ]
  },
  {
   "cell_type": "code",
   "execution_count": 54,
   "metadata": {
    "ExecuteTime": {
     "end_time": "2023-06-10T21:09:00.725532800Z",
     "start_time": "2023-06-10T21:09:00.720943600Z"
    }
   },
   "outputs": [],
   "source": [
    "# Replace Actor 1 with Actor 11\n",
    "movies_and_actors['One'][0] = 'Actor 11'"
   ]
  },
  {
   "cell_type": "code",
   "execution_count": 55,
   "metadata": {
    "ExecuteTime": {
     "end_time": "2023-06-10T21:09:08.330358100Z",
     "start_time": "2023-06-10T21:09:08.310494700Z"
    }
   },
   "outputs": [
    {
     "data": {
      "text/plain": "['Actor 11', 'Actor 2']"
     },
     "execution_count": 55,
     "metadata": {},
     "output_type": "execute_result"
    }
   ],
   "source": [
    "movies_and_actors['One']"
   ]
  },
  {
   "cell_type": "code",
   "execution_count": 56,
   "metadata": {
    "ExecuteTime": {
     "end_time": "2023-06-10T21:09:26.087870Z",
     "start_time": "2023-06-10T21:09:26.061226Z"
    }
   },
   "outputs": [
    {
     "data": {
      "text/plain": "'Actor 11'"
     },
     "execution_count": 56,
     "metadata": {},
     "output_type": "execute_result"
    }
   ],
   "source": [
    "movies_and_actors['One'][0]"
   ]
  },
  {
   "cell_type": "code",
   "execution_count": 58,
   "metadata": {
    "ExecuteTime": {
     "end_time": "2023-06-10T21:09:33.346397100Z",
     "start_time": "2023-06-10T21:09:33.315020300Z"
    }
   },
   "outputs": [
    {
     "data": {
      "text/plain": "{'One': ['Actor 11', 'Actor 2'],\n 'Two': ['Actor 3', 'Actor 4'],\n 'Nine': ['Actor 5', 'Actor 6'],\n 'Ten': ['Actor 7', 'Actor 8'],\n 'Five': ['Actor 9', 'Actor 10']}"
     },
     "execution_count": 58,
     "metadata": {},
     "output_type": "execute_result"
    }
   ],
   "source": [
    "movies_and_actors"
   ]
  },
  {
   "cell_type": "code",
   "execution_count": 59,
   "metadata": {
    "ExecuteTime": {
     "end_time": "2023-06-10T21:10:05.018214800Z",
     "start_time": "2023-06-10T21:10:05.002563400Z"
    }
   },
   "outputs": [
    {
     "name": "stdout",
     "output_type": "stream",
     "text": [
      "Actor 11\n",
      "Actor 2\n"
     ]
    }
   ],
   "source": [
    "#print the actors for movie One\n",
    "for a in movies_and_actors['One']:\n",
    "    print(a)"
   ]
  },
  {
   "cell_type": "code",
   "execution_count": 60,
   "metadata": {
    "ExecuteTime": {
     "end_time": "2023-06-10T21:11:07.265848800Z",
     "start_time": "2023-06-10T21:11:07.246424400Z"
    }
   },
   "outputs": [
    {
     "name": "stdout",
     "output_type": "stream",
     "text": [
      "Actor 11\n",
      "Actor 2\n",
      "Actor 3\n",
      "Actor 4\n",
      "Actor 5\n",
      "Actor 6\n",
      "Actor 7\n",
      "Actor 8\n",
      "Actor 9\n",
      "Actor 10\n"
     ]
    }
   ],
   "source": [
    "# Print all the actors\n",
    "for k, v in movies_and_actors.items():\n",
    "    for a in v:\n",
    "        print(a)"
   ]
  },
  {
   "cell_type": "code",
   "execution_count": 61,
   "metadata": {
    "ExecuteTime": {
     "end_time": "2023-06-10T21:11:52.581791900Z",
     "start_time": "2023-06-10T21:11:52.548525100Z"
    }
   },
   "outputs": [
    {
     "name": "stdout",
     "output_type": "stream",
     "text": [
      "One\n",
      "Two\n",
      "Nine\n",
      "Ten\n",
      "Five\n"
     ]
    }
   ],
   "source": [
    "# Print all the movies\n",
    "for m in movies_and_actors.keys():\n",
    "    print(m)"
   ]
  },
  {
   "cell_type": "code",
   "execution_count": 62,
   "metadata": {
    "ExecuteTime": {
     "end_time": "2023-06-10T21:12:08.986908200Z",
     "start_time": "2023-06-10T21:12:08.978639800Z"
    }
   },
   "outputs": [
    {
     "data": {
      "text/plain": "{}"
     },
     "execution_count": 62,
     "metadata": {},
     "output_type": "execute_result"
    }
   ],
   "source": [
    "# Clear the entire movie with actors dictionary\n",
    "movies_and_actors.clear()\n",
    "movies_and_actors"
   ]
  },
  {
   "cell_type": "code",
   "execution_count": 64,
   "metadata": {
    "ExecuteTime": {
     "end_time": "2023-06-10T21:12:41.272192Z",
     "start_time": "2023-06-10T21:12:41.198593400Z"
    }
   },
   "outputs": [
    {
     "data": {
      "text/plain": "('One', 'Two', 'Three', 'Four', 'Five')"
     },
     "execution_count": 64,
     "metadata": {},
     "output_type": "execute_result"
    }
   ],
   "source": [
    "# Create a tuple of the movies\n",
    "movies_tuple = ('One', 'Two', 'Three', 'Four', 'Five')\n",
    "movies_tuple"
   ]
  },
  {
   "cell_type": "code",
   "execution_count": 65,
   "metadata": {
    "ExecuteTime": {
     "end_time": "2023-06-10T21:12:47.519462300Z",
     "start_time": "2023-06-10T21:12:47.510953200Z"
    }
   },
   "outputs": [
    {
     "data": {
      "text/plain": "'Two'"
     },
     "execution_count": 65,
     "metadata": {},
     "output_type": "execute_result"
    }
   ],
   "source": [
    "# Print the second movie in the tuple\n",
    "movies_tuple[1]"
   ]
  },
  {
   "cell_type": "code",
   "execution_count": 66,
   "metadata": {
    "ExecuteTime": {
     "end_time": "2023-06-10T21:12:59.401015400Z",
     "start_time": "2023-06-10T21:12:59.382737400Z"
    }
   },
   "outputs": [
    {
     "ename": "TypeError",
     "evalue": "'tuple' object does not support item assignment",
     "output_type": "error",
     "traceback": [
      "\u001B[1;31m---------------------------------------------------------------------------\u001B[0m",
      "\u001B[1;31mTypeError\u001B[0m                                 Traceback (most recent call last)",
      "Cell \u001B[1;32mIn[66], line 2\u001B[0m\n\u001B[0;32m      1\u001B[0m \u001B[38;5;66;03m# Replace the second movie with 'Nine'\u001B[39;00m\n\u001B[1;32m----> 2\u001B[0m \u001B[43mmovies_tuple\u001B[49m\u001B[43m[\u001B[49m\u001B[38;5;241;43m1\u001B[39;49m\u001B[43m]\u001B[49m \u001B[38;5;241m=\u001B[39m \u001B[38;5;124m'\u001B[39m\u001B[38;5;124mNine\u001B[39m\u001B[38;5;124m'\u001B[39m\n",
      "\u001B[1;31mTypeError\u001B[0m: 'tuple' object does not support item assignment"
     ]
    }
   ],
   "source": [
    "# Replace the second movie with 'Nine'\n",
    "movies_tuple[1] = 'Nine'"
   ]
  },
  {
   "cell_type": "code",
   "execution_count": 68,
   "metadata": {
    "ExecuteTime": {
     "end_time": "2023-06-10T21:13:28.423486500Z",
     "start_time": "2023-06-10T21:13:28.392194400Z"
    }
   },
   "outputs": [
    {
     "data": {
      "text/plain": "{'Five', 'Four', 'One', 'Three', 'Two'}"
     },
     "execution_count": 68,
     "metadata": {},
     "output_type": "execute_result"
    }
   ],
   "source": [
    "# Create a set with the movies\n",
    "movies_set = {'Five', 'Four', 'One', 'Three', 'Two'}\n",
    "movies_set"
   ]
  },
  {
   "cell_type": "code",
   "execution_count": 69,
   "metadata": {
    "ExecuteTime": {
     "end_time": "2023-06-10T21:13:35.740851900Z",
     "start_time": "2023-06-10T21:13:35.692743400Z"
    }
   },
   "outputs": [
    {
     "ename": "TypeError",
     "evalue": "'set' object is not subscriptable",
     "output_type": "error",
     "traceback": [
      "\u001B[1;31m---------------------------------------------------------------------------\u001B[0m",
      "\u001B[1;31mTypeError\u001B[0m                                 Traceback (most recent call last)",
      "Cell \u001B[1;32mIn[69], line 2\u001B[0m\n\u001B[0;32m      1\u001B[0m \u001B[38;5;66;03m# Display the second movie in the set\u001B[39;00m\n\u001B[1;32m----> 2\u001B[0m \u001B[43mmovies_set\u001B[49m\u001B[43m[\u001B[49m\u001B[38;5;241;43m1\u001B[39;49m\u001B[43m]\u001B[49m\n",
      "\u001B[1;31mTypeError\u001B[0m: 'set' object is not subscriptable"
     ]
    }
   ],
   "source": [
    "# Display the second movie in the set\n",
    "movies_set[1]"
   ]
  },
  {
   "cell_type": "code",
   "execution_count": 71,
   "metadata": {
    "ExecuteTime": {
     "end_time": "2023-06-10T21:13:50.223088200Z",
     "start_time": "2023-06-10T21:13:50.207428800Z"
    }
   },
   "outputs": [
    {
     "data": {
      "text/plain": "{'Five', 'Four', 'One', 'Ten', 'Three', 'Two'}"
     },
     "execution_count": 71,
     "metadata": {},
     "output_type": "execute_result"
    }
   ],
   "source": [
    "# Add Ten to the set\n",
    "movies_set.add('Ten')\n",
    "movies_set"
   ]
  },
  {
   "cell_type": "markdown",
   "metadata": {},
   "source": [
    "Happy Coding!"
   ]
  }
 ],
 "metadata": {
  "kernelspec": {
   "display_name": "Python 3",
   "language": "python",
   "name": "python3"
  },
  "language_info": {
   "codemirror_mode": {
    "name": "ipython",
    "version": 3
   },
   "file_extension": ".py",
   "mimetype": "text/x-python",
   "name": "python",
   "nbconvert_exporter": "python",
   "pygments_lexer": "ipython3",
   "version": "3.7.6"
  }
 },
 "nbformat": 4,
 "nbformat_minor": 4
}
