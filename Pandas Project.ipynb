{
 "cells": [
  {
   "cell_type": "markdown",
   "metadata": {},
   "source": [
    "# Pandas - Data Analysis & Manipulation Project Solutions"
   ]
  },
  {
   "cell_type": "markdown",
   "metadata": {},
   "source": [
    "[Data Science for Good - Kaggle](https://www.kaggle.com/kiva/data-science-for-good-kiva-crowdfunding)"
   ]
  },
  {
   "cell_type": "markdown",
   "metadata": {},
   "source": [
    "![Namespace Labs](../../../labs.png)"
   ]
  },
  {
   "cell_type": "code",
   "execution_count": 24,
   "metadata": {
    "ExecuteTime": {
     "end_time": "2023-06-11T16:07:22.940321100Z",
     "start_time": "2023-06-11T16:07:22.926281400Z"
    }
   },
   "outputs": [],
   "source": [
    "import pandas as pd"
   ]
  },
  {
   "cell_type": "code",
   "execution_count": 25,
   "metadata": {
    "ExecuteTime": {
     "end_time": "2023-06-11T16:07:25.043529400Z",
     "start_time": "2023-06-11T16:07:23.090898200Z"
    }
   },
   "outputs": [],
   "source": [
    "# Load in kiva_loans.csv as df\n",
    "df = pd.read_csv('data/kiva_loans.csv')"
   ]
  },
  {
   "cell_type": "code",
   "execution_count": 26,
   "metadata": {
    "ExecuteTime": {
     "end_time": "2023-06-11T16:07:25.059526500Z",
     "start_time": "2023-06-11T16:07:25.044528600Z"
    }
   },
   "outputs": [
    {
     "data": {
      "text/plain": "       id  funded_amount  loan_amount             activity          sector  \\\n0  653051          300.0        300.0  Fruits & Vegetables            Food   \n1  653053          575.0        575.0             Rickshaw  Transportation   \n2  653068          150.0        150.0       Transportation  Transportation   \n3  653063          200.0        200.0           Embroidery            Arts   \n4  653084          400.0        400.0           Milk Sales            Food   \n\n                                                 use country_code   country  \\\n0            To buy seasonal, fresh fruits to sell.            PK  Pakistan   \n1  to repair and maintain the auto rickshaw used ...           PK  Pakistan   \n2  To repair their old cycle-van and buy another ...           IN     India   \n3  to purchase an embroidery machine and a variet...           PK  Pakistan   \n4                           to purchase one buffalo.           PK  Pakistan   \n\n         region currency  partner_id                posted_time  \\\n0        Lahore      PKR       247.0  2014-01-01 06:12:39+00:00   \n1        Lahore      PKR       247.0  2014-01-01 06:51:08+00:00   \n2     Maynaguri      INR       334.0  2014-01-01 09:58:07+00:00   \n3        Lahore      PKR       247.0  2014-01-01 08:03:11+00:00   \n4  Abdul Hakeem      PKR       245.0  2014-01-01 11:53:19+00:00   \n\n              disbursed_time                funded_time  term_in_months  \\\n0  2013-12-17 08:00:00+00:00  2014-01-02 10:06:32+00:00            12.0   \n1  2013-12-17 08:00:00+00:00  2014-01-02 09:17:23+00:00            11.0   \n2  2013-12-17 08:00:00+00:00  2014-01-01 16:01:36+00:00            43.0   \n3  2013-12-24 08:00:00+00:00  2014-01-01 13:00:00+00:00            11.0   \n4  2013-12-17 08:00:00+00:00  2014-01-01 19:18:51+00:00            14.0   \n\n   lender_count                          tags borrower_genders  \\\n0            12                           NaN           female   \n1            14                           NaN   female, female   \n2             6  user_favorite, user_favorite           female   \n3             8                           NaN           female   \n4            16                           NaN           female   \n\n  repayment_interval        date  \n0          irregular  2014-01-01  \n1          irregular  2014-01-01  \n2             bullet  2014-01-01  \n3          irregular  2014-01-01  \n4            monthly  2014-01-01  ",
      "text/html": "<div>\n<style scoped>\n    .dataframe tbody tr th:only-of-type {\n        vertical-align: middle;\n    }\n\n    .dataframe tbody tr th {\n        vertical-align: top;\n    }\n\n    .dataframe thead th {\n        text-align: right;\n    }\n</style>\n<table border=\"1\" class=\"dataframe\">\n  <thead>\n    <tr style=\"text-align: right;\">\n      <th></th>\n      <th>id</th>\n      <th>funded_amount</th>\n      <th>loan_amount</th>\n      <th>activity</th>\n      <th>sector</th>\n      <th>use</th>\n      <th>country_code</th>\n      <th>country</th>\n      <th>region</th>\n      <th>currency</th>\n      <th>partner_id</th>\n      <th>posted_time</th>\n      <th>disbursed_time</th>\n      <th>funded_time</th>\n      <th>term_in_months</th>\n      <th>lender_count</th>\n      <th>tags</th>\n      <th>borrower_genders</th>\n      <th>repayment_interval</th>\n      <th>date</th>\n    </tr>\n  </thead>\n  <tbody>\n    <tr>\n      <th>0</th>\n      <td>653051</td>\n      <td>300.0</td>\n      <td>300.0</td>\n      <td>Fruits &amp; Vegetables</td>\n      <td>Food</td>\n      <td>To buy seasonal, fresh fruits to sell.</td>\n      <td>PK</td>\n      <td>Pakistan</td>\n      <td>Lahore</td>\n      <td>PKR</td>\n      <td>247.0</td>\n      <td>2014-01-01 06:12:39+00:00</td>\n      <td>2013-12-17 08:00:00+00:00</td>\n      <td>2014-01-02 10:06:32+00:00</td>\n      <td>12.0</td>\n      <td>12</td>\n      <td>NaN</td>\n      <td>female</td>\n      <td>irregular</td>\n      <td>2014-01-01</td>\n    </tr>\n    <tr>\n      <th>1</th>\n      <td>653053</td>\n      <td>575.0</td>\n      <td>575.0</td>\n      <td>Rickshaw</td>\n      <td>Transportation</td>\n      <td>to repair and maintain the auto rickshaw used ...</td>\n      <td>PK</td>\n      <td>Pakistan</td>\n      <td>Lahore</td>\n      <td>PKR</td>\n      <td>247.0</td>\n      <td>2014-01-01 06:51:08+00:00</td>\n      <td>2013-12-17 08:00:00+00:00</td>\n      <td>2014-01-02 09:17:23+00:00</td>\n      <td>11.0</td>\n      <td>14</td>\n      <td>NaN</td>\n      <td>female, female</td>\n      <td>irregular</td>\n      <td>2014-01-01</td>\n    </tr>\n    <tr>\n      <th>2</th>\n      <td>653068</td>\n      <td>150.0</td>\n      <td>150.0</td>\n      <td>Transportation</td>\n      <td>Transportation</td>\n      <td>To repair their old cycle-van and buy another ...</td>\n      <td>IN</td>\n      <td>India</td>\n      <td>Maynaguri</td>\n      <td>INR</td>\n      <td>334.0</td>\n      <td>2014-01-01 09:58:07+00:00</td>\n      <td>2013-12-17 08:00:00+00:00</td>\n      <td>2014-01-01 16:01:36+00:00</td>\n      <td>43.0</td>\n      <td>6</td>\n      <td>user_favorite, user_favorite</td>\n      <td>female</td>\n      <td>bullet</td>\n      <td>2014-01-01</td>\n    </tr>\n    <tr>\n      <th>3</th>\n      <td>653063</td>\n      <td>200.0</td>\n      <td>200.0</td>\n      <td>Embroidery</td>\n      <td>Arts</td>\n      <td>to purchase an embroidery machine and a variet...</td>\n      <td>PK</td>\n      <td>Pakistan</td>\n      <td>Lahore</td>\n      <td>PKR</td>\n      <td>247.0</td>\n      <td>2014-01-01 08:03:11+00:00</td>\n      <td>2013-12-24 08:00:00+00:00</td>\n      <td>2014-01-01 13:00:00+00:00</td>\n      <td>11.0</td>\n      <td>8</td>\n      <td>NaN</td>\n      <td>female</td>\n      <td>irregular</td>\n      <td>2014-01-01</td>\n    </tr>\n    <tr>\n      <th>4</th>\n      <td>653084</td>\n      <td>400.0</td>\n      <td>400.0</td>\n      <td>Milk Sales</td>\n      <td>Food</td>\n      <td>to purchase one buffalo.</td>\n      <td>PK</td>\n      <td>Pakistan</td>\n      <td>Abdul Hakeem</td>\n      <td>PKR</td>\n      <td>245.0</td>\n      <td>2014-01-01 11:53:19+00:00</td>\n      <td>2013-12-17 08:00:00+00:00</td>\n      <td>2014-01-01 19:18:51+00:00</td>\n      <td>14.0</td>\n      <td>16</td>\n      <td>NaN</td>\n      <td>female</td>\n      <td>monthly</td>\n      <td>2014-01-01</td>\n    </tr>\n  </tbody>\n</table>\n</div>"
     },
     "execution_count": 26,
     "metadata": {},
     "output_type": "execute_result"
    }
   ],
   "source": [
    "#check the head of df\n",
    "df.head()"
   ]
  },
  {
   "cell_type": "code",
   "execution_count": 27,
   "metadata": {
    "ExecuteTime": {
     "end_time": "2023-06-11T16:07:25.202743400Z",
     "start_time": "2023-06-11T16:07:25.061528500Z"
    }
   },
   "outputs": [
    {
     "data": {
      "text/plain": "                 id  funded_amount    loan_amount     partner_id  \\\ncount  6.712050e+05  671205.000000  671205.000000  657698.000000   \nmean   9.932486e+05     785.995061     842.397107     178.199616   \nstd    1.966113e+05    1130.398941    1198.660073      94.247581   \nmin    6.530470e+05       0.000000      25.000000       9.000000   \n25%    8.230720e+05     250.000000     275.000000     126.000000   \n50%    9.927800e+05     450.000000     500.000000     145.000000   \n75%    1.163653e+06     900.000000    1000.000000     204.000000   \nmax    1.340339e+06  100000.000000  100000.000000     536.000000   \n\n       term_in_months   lender_count  \ncount   671205.000000  671205.000000  \nmean        13.739022      20.590922  \nstd          8.598919      28.459551  \nmin          1.000000       0.000000  \n25%          8.000000       7.000000  \n50%         13.000000      13.000000  \n75%         14.000000      24.000000  \nmax        158.000000    2986.000000  ",
      "text/html": "<div>\n<style scoped>\n    .dataframe tbody tr th:only-of-type {\n        vertical-align: middle;\n    }\n\n    .dataframe tbody tr th {\n        vertical-align: top;\n    }\n\n    .dataframe thead th {\n        text-align: right;\n    }\n</style>\n<table border=\"1\" class=\"dataframe\">\n  <thead>\n    <tr style=\"text-align: right;\">\n      <th></th>\n      <th>id</th>\n      <th>funded_amount</th>\n      <th>loan_amount</th>\n      <th>partner_id</th>\n      <th>term_in_months</th>\n      <th>lender_count</th>\n    </tr>\n  </thead>\n  <tbody>\n    <tr>\n      <th>count</th>\n      <td>6.712050e+05</td>\n      <td>671205.000000</td>\n      <td>671205.000000</td>\n      <td>657698.000000</td>\n      <td>671205.000000</td>\n      <td>671205.000000</td>\n    </tr>\n    <tr>\n      <th>mean</th>\n      <td>9.932486e+05</td>\n      <td>785.995061</td>\n      <td>842.397107</td>\n      <td>178.199616</td>\n      <td>13.739022</td>\n      <td>20.590922</td>\n    </tr>\n    <tr>\n      <th>std</th>\n      <td>1.966113e+05</td>\n      <td>1130.398941</td>\n      <td>1198.660073</td>\n      <td>94.247581</td>\n      <td>8.598919</td>\n      <td>28.459551</td>\n    </tr>\n    <tr>\n      <th>min</th>\n      <td>6.530470e+05</td>\n      <td>0.000000</td>\n      <td>25.000000</td>\n      <td>9.000000</td>\n      <td>1.000000</td>\n      <td>0.000000</td>\n    </tr>\n    <tr>\n      <th>25%</th>\n      <td>8.230720e+05</td>\n      <td>250.000000</td>\n      <td>275.000000</td>\n      <td>126.000000</td>\n      <td>8.000000</td>\n      <td>7.000000</td>\n    </tr>\n    <tr>\n      <th>50%</th>\n      <td>9.927800e+05</td>\n      <td>450.000000</td>\n      <td>500.000000</td>\n      <td>145.000000</td>\n      <td>13.000000</td>\n      <td>13.000000</td>\n    </tr>\n    <tr>\n      <th>75%</th>\n      <td>1.163653e+06</td>\n      <td>900.000000</td>\n      <td>1000.000000</td>\n      <td>204.000000</td>\n      <td>14.000000</td>\n      <td>24.000000</td>\n    </tr>\n    <tr>\n      <th>max</th>\n      <td>1.340339e+06</td>\n      <td>100000.000000</td>\n      <td>100000.000000</td>\n      <td>536.000000</td>\n      <td>158.000000</td>\n      <td>2986.000000</td>\n    </tr>\n  </tbody>\n</table>\n</div>"
     },
     "execution_count": 27,
     "metadata": {},
     "output_type": "execute_result"
    }
   ],
   "source": [
    "#check the summary of the data\n",
    "df.describe()"
   ]
  },
  {
   "cell_type": "code",
   "execution_count": 28,
   "metadata": {
    "ExecuteTime": {
     "end_time": "2023-06-11T16:07:25.424186500Z",
     "start_time": "2023-06-11T16:07:25.204250200Z"
    }
   },
   "outputs": [
    {
     "name": "stdout",
     "output_type": "stream",
     "text": [
      "<class 'pandas.core.frame.DataFrame'>\n",
      "RangeIndex: 671205 entries, 0 to 671204\n",
      "Data columns (total 20 columns):\n",
      " #   Column              Non-Null Count   Dtype  \n",
      "---  ------              --------------   -----  \n",
      " 0   id                  671205 non-null  int64  \n",
      " 1   funded_amount       671205 non-null  float64\n",
      " 2   loan_amount         671205 non-null  float64\n",
      " 3   activity            671205 non-null  object \n",
      " 4   sector              671205 non-null  object \n",
      " 5   use                 666973 non-null  object \n",
      " 6   country_code        671197 non-null  object \n",
      " 7   country             671205 non-null  object \n",
      " 8   region              614405 non-null  object \n",
      " 9   currency            671205 non-null  object \n",
      " 10  partner_id          657698 non-null  float64\n",
      " 11  posted_time         671205 non-null  object \n",
      " 12  disbursed_time      668809 non-null  object \n",
      " 13  funded_time         622874 non-null  object \n",
      " 14  term_in_months      671205 non-null  float64\n",
      " 15  lender_count        671205 non-null  int64  \n",
      " 16  tags                499789 non-null  object \n",
      " 17  borrower_genders    666984 non-null  object \n",
      " 18  repayment_interval  671205 non-null  object \n",
      " 19  date                671205 non-null  object \n",
      "dtypes: float64(4), int64(2), object(14)\n",
      "memory usage: 102.4+ MB\n"
     ]
    }
   ],
   "source": [
    "# Check the info of the data\n",
    "df.info()"
   ]
  },
  {
   "cell_type": "code",
   "execution_count": 29,
   "metadata": {
    "ExecuteTime": {
     "end_time": "2023-06-11T16:07:25.820266900Z",
     "start_time": "2023-06-11T16:07:25.425186300Z"
    }
   },
   "outputs": [
    {
     "name": "stdout",
     "output_type": "stream",
     "text": [
      "<class 'pandas.core.frame.DataFrame'>\n",
      "Index: 423081 entries, 2 to 671141\n",
      "Data columns (total 20 columns):\n",
      " #   Column              Non-Null Count   Dtype  \n",
      "---  ------              --------------   -----  \n",
      " 0   id                  423081 non-null  int64  \n",
      " 1   funded_amount       423081 non-null  float64\n",
      " 2   loan_amount         423081 non-null  float64\n",
      " 3   activity            423081 non-null  object \n",
      " 4   sector              423081 non-null  object \n",
      " 5   use                 423081 non-null  object \n",
      " 6   country_code        423081 non-null  object \n",
      " 7   country             423081 non-null  object \n",
      " 8   region              423081 non-null  object \n",
      " 9   currency            423081 non-null  object \n",
      " 10  partner_id          423081 non-null  float64\n",
      " 11  posted_time         423081 non-null  object \n",
      " 12  disbursed_time      423081 non-null  object \n",
      " 13  funded_time         423081 non-null  object \n",
      " 14  term_in_months      423081 non-null  float64\n",
      " 15  lender_count        423081 non-null  int64  \n",
      " 16  tags                423081 non-null  object \n",
      " 17  borrower_genders    423081 non-null  object \n",
      " 18  repayment_interval  423081 non-null  object \n",
      " 19  date                423081 non-null  object \n",
      "dtypes: float64(4), int64(2), object(14)\n",
      "memory usage: 67.8+ MB\n"
     ]
    }
   ],
   "source": [
    "# Drop all the null values\n",
    "# and save the new datafarame in df_dropped\n",
    "# check the info of the dropped dated\n",
    "df_dropped = df.dropna()\n",
    "df_dropped.info()"
   ]
  },
  {
   "cell_type": "code",
   "execution_count": 30,
   "metadata": {
    "ExecuteTime": {
     "end_time": "2023-06-11T16:07:25.864581800Z",
     "start_time": "2023-06-11T16:07:25.820266900Z"
    }
   },
   "outputs": [
    {
     "data": {
      "text/plain": "248124"
     },
     "execution_count": 30,
     "metadata": {},
     "output_type": "execute_result"
    }
   ],
   "source": [
    "# How many records have been lost as a result\n",
    "# of dropping all the null values 248124\n",
    "len(df) - len(df_dropped)"
   ]
  },
  {
   "cell_type": "code",
   "execution_count": 31,
   "metadata": {
    "ExecuteTime": {
     "end_time": "2023-06-11T16:07:26.276262Z",
     "start_time": "2023-06-11T16:07:26.072846800Z"
    }
   },
   "outputs": [
    {
     "data": {
      "text/plain": "id                    False\nfunded_amount         False\nloan_amount           False\nactivity              False\nsector                False\nuse                    True\ncountry_code           True\ncountry               False\nregion                 True\ncurrency              False\npartner_id             True\nposted_time           False\ndisbursed_time         True\nfunded_time            True\nterm_in_months        False\nlender_count          False\ntags                   True\nborrower_genders       True\nrepayment_interval    False\ndate                  False\ndtype: bool"
     },
     "execution_count": 31,
     "metadata": {},
     "output_type": "execute_result"
    }
   ],
   "source": [
    "# check for any null values\n",
    "df.isnull().any()"
   ]
  },
  {
   "cell_type": "code",
   "execution_count": 36,
   "metadata": {
    "ExecuteTime": {
     "end_time": "2023-06-11T16:11:41.874415800Z",
     "start_time": "2023-06-11T16:11:41.837906500Z"
    }
   },
   "outputs": [],
   "source": [
    "# Filling USE with RECORD UNKNOWN\n",
    "df['use'].fillna('RECORD UNKNOWN', inplace=True)"
   ]
  },
  {
   "cell_type": "code",
   "execution_count": 37,
   "metadata": {
    "ExecuteTime": {
     "end_time": "2023-06-11T16:11:45.035448800Z",
     "start_time": "2023-06-11T16:11:45.004138300Z"
    }
   },
   "outputs": [
    {
     "data": {
      "text/plain": "                                                      use\n0                 To buy seasonal, fresh fruits to sell. \n1       to repair and maintain the auto rickshaw used ...\n2       To repair their old cycle-van and buy another ...\n3       to purchase an embroidery machine and a variet...\n4                                to purchase one buffalo.\n...                                                   ...\n671200  [True, u'para compara: cemento, arenya y ladri...\n671201  [True, u'to start a turducken farm.'] - this l...\n671202                                     RECORD UNKNOWN\n671203  [True, u'to start a turducken farm.'] - this l...\n671204  [True, u'to start a turducken farm.'] - this l...\n\n[671205 rows x 1 columns]",
      "text/html": "<div>\n<style scoped>\n    .dataframe tbody tr th:only-of-type {\n        vertical-align: middle;\n    }\n\n    .dataframe tbody tr th {\n        vertical-align: top;\n    }\n\n    .dataframe thead th {\n        text-align: right;\n    }\n</style>\n<table border=\"1\" class=\"dataframe\">\n  <thead>\n    <tr style=\"text-align: right;\">\n      <th></th>\n      <th>use</th>\n    </tr>\n  </thead>\n  <tbody>\n    <tr>\n      <th>0</th>\n      <td>To buy seasonal, fresh fruits to sell.</td>\n    </tr>\n    <tr>\n      <th>1</th>\n      <td>to repair and maintain the auto rickshaw used ...</td>\n    </tr>\n    <tr>\n      <th>2</th>\n      <td>To repair their old cycle-van and buy another ...</td>\n    </tr>\n    <tr>\n      <th>3</th>\n      <td>to purchase an embroidery machine and a variet...</td>\n    </tr>\n    <tr>\n      <th>4</th>\n      <td>to purchase one buffalo.</td>\n    </tr>\n    <tr>\n      <th>...</th>\n      <td>...</td>\n    </tr>\n    <tr>\n      <th>671200</th>\n      <td>[True, u'para compara: cemento, arenya y ladri...</td>\n    </tr>\n    <tr>\n      <th>671201</th>\n      <td>[True, u'to start a turducken farm.'] - this l...</td>\n    </tr>\n    <tr>\n      <th>671202</th>\n      <td>RECORD UNKNOWN</td>\n    </tr>\n    <tr>\n      <th>671203</th>\n      <td>[True, u'to start a turducken farm.'] - this l...</td>\n    </tr>\n    <tr>\n      <th>671204</th>\n      <td>[True, u'to start a turducken farm.'] - this l...</td>\n    </tr>\n  </tbody>\n</table>\n<p>671205 rows × 1 columns</p>\n</div>"
     },
     "execution_count": 37,
     "metadata": {},
     "output_type": "execute_result"
    }
   ],
   "source": [
    "# Display the use column as a dataframe\n",
    "df[['use']]"
   ]
  },
  {
   "cell_type": "code",
   "execution_count": 38,
   "metadata": {
    "ExecuteTime": {
     "end_time": "2023-06-11T16:12:12.422820300Z",
     "start_time": "2023-06-11T16:12:12.408819800Z"
    }
   },
   "outputs": [],
   "source": [
    "# Filling region with Unknown_Region\n",
    "df['region'].fillna('Unknown_Region', inplace=True)"
   ]
  },
  {
   "cell_type": "code",
   "execution_count": 39,
   "metadata": {
    "ExecuteTime": {
     "end_time": "2023-06-11T16:12:14.382447800Z",
     "start_time": "2023-06-11T16:12:14.355506900Z"
    }
   },
   "outputs": [
    {
     "data": {
      "text/plain": "                region\n0               Lahore\n1               Lahore\n2            Maynaguri\n3               Lahore\n4         Abdul Hakeem\n...                ...\n671200      Concepción\n671201  Unknown_Region\n671202  Unknown_Region\n671203  Unknown_Region\n671204  Unknown_Region\n\n[671205 rows x 1 columns]",
      "text/html": "<div>\n<style scoped>\n    .dataframe tbody tr th:only-of-type {\n        vertical-align: middle;\n    }\n\n    .dataframe tbody tr th {\n        vertical-align: top;\n    }\n\n    .dataframe thead th {\n        text-align: right;\n    }\n</style>\n<table border=\"1\" class=\"dataframe\">\n  <thead>\n    <tr style=\"text-align: right;\">\n      <th></th>\n      <th>region</th>\n    </tr>\n  </thead>\n  <tbody>\n    <tr>\n      <th>0</th>\n      <td>Lahore</td>\n    </tr>\n    <tr>\n      <th>1</th>\n      <td>Lahore</td>\n    </tr>\n    <tr>\n      <th>2</th>\n      <td>Maynaguri</td>\n    </tr>\n    <tr>\n      <th>3</th>\n      <td>Lahore</td>\n    </tr>\n    <tr>\n      <th>4</th>\n      <td>Abdul Hakeem</td>\n    </tr>\n    <tr>\n      <th>...</th>\n      <td>...</td>\n    </tr>\n    <tr>\n      <th>671200</th>\n      <td>Concepción</td>\n    </tr>\n    <tr>\n      <th>671201</th>\n      <td>Unknown_Region</td>\n    </tr>\n    <tr>\n      <th>671202</th>\n      <td>Unknown_Region</td>\n    </tr>\n    <tr>\n      <th>671203</th>\n      <td>Unknown_Region</td>\n    </tr>\n    <tr>\n      <th>671204</th>\n      <td>Unknown_Region</td>\n    </tr>\n  </tbody>\n</table>\n<p>671205 rows × 1 columns</p>\n</div>"
     },
     "execution_count": 39,
     "metadata": {},
     "output_type": "execute_result"
    }
   ],
   "source": [
    "# Display the region column as a dataframe\n",
    "df[['region']]"
   ]
  },
  {
   "cell_type": "code",
   "execution_count": 40,
   "metadata": {
    "ExecuteTime": {
     "end_time": "2023-06-11T16:15:43.074255400Z",
     "start_time": "2023-06-11T16:15:42.838778300Z"
    }
   },
   "outputs": [
    {
     "data": {
      "text/plain": "       id  funded_amount  loan_amount             activity sector  \\\n0  653051          300.0        300.0  Fruits & Vegetables   Food   \n\n                                       use country_code   country  region  \\\n0  To buy seasonal, fresh fruits to sell.            PK  Pakistan  Lahore   \n\n  currency  ...                posted_time             disbursed_time  \\\n0      PKR  ...  2014-01-01 06:12:39+00:00  2013-12-17 08:00:00+00:00   \n\n                 funded_time term_in_months  lender_count  tags  \\\n0  2014-01-02 10:06:32+00:00           12.0            12   NaN   \n\n  borrower_genders repayment_interval        date  year  \n0           female          irregular  2014-01-01  2014  \n\n[1 rows x 21 columns]",
      "text/html": "<div>\n<style scoped>\n    .dataframe tbody tr th:only-of-type {\n        vertical-align: middle;\n    }\n\n    .dataframe tbody tr th {\n        vertical-align: top;\n    }\n\n    .dataframe thead th {\n        text-align: right;\n    }\n</style>\n<table border=\"1\" class=\"dataframe\">\n  <thead>\n    <tr style=\"text-align: right;\">\n      <th></th>\n      <th>id</th>\n      <th>funded_amount</th>\n      <th>loan_amount</th>\n      <th>activity</th>\n      <th>sector</th>\n      <th>use</th>\n      <th>country_code</th>\n      <th>country</th>\n      <th>region</th>\n      <th>currency</th>\n      <th>...</th>\n      <th>posted_time</th>\n      <th>disbursed_time</th>\n      <th>funded_time</th>\n      <th>term_in_months</th>\n      <th>lender_count</th>\n      <th>tags</th>\n      <th>borrower_genders</th>\n      <th>repayment_interval</th>\n      <th>date</th>\n      <th>year</th>\n    </tr>\n  </thead>\n  <tbody>\n    <tr>\n      <th>0</th>\n      <td>653051</td>\n      <td>300.0</td>\n      <td>300.0</td>\n      <td>Fruits &amp; Vegetables</td>\n      <td>Food</td>\n      <td>To buy seasonal, fresh fruits to sell.</td>\n      <td>PK</td>\n      <td>Pakistan</td>\n      <td>Lahore</td>\n      <td>PKR</td>\n      <td>...</td>\n      <td>2014-01-01 06:12:39+00:00</td>\n      <td>2013-12-17 08:00:00+00:00</td>\n      <td>2014-01-02 10:06:32+00:00</td>\n      <td>12.0</td>\n      <td>12</td>\n      <td>NaN</td>\n      <td>female</td>\n      <td>irregular</td>\n      <td>2014-01-01</td>\n      <td>2014</td>\n    </tr>\n  </tbody>\n</table>\n<p>1 rows × 21 columns</p>\n</div>"
     },
     "execution_count": 40,
     "metadata": {},
     "output_type": "execute_result"
    }
   ],
   "source": [
    "# Create a New column that contains the year from the data column\n",
    "#def create_year(x):\n",
    "#    year = pd.DatetimeIndex(x).year\n",
    "#    return year\n",
    "\n",
    "df['year'] = pd.DatetimeIndex(df['date']).year\n",
    "df.head(1)"
   ]
  },
  {
   "cell_type": "code",
   "execution_count": 50,
   "metadata": {
    "ExecuteTime": {
     "end_time": "2023-06-11T16:19:53.018755800Z",
     "start_time": "2023-06-11T16:19:52.936088200Z"
    }
   },
   "outputs": [
    {
     "data": {
      "text/plain": "       id  funded_amount  loan_amount             activity sector  \\\n0  653051          300.0        300.0  Fruits & Vegetables   Food   \n\n                                       use country_code   country  region  \\\n0  To buy seasonal, fresh fruits to sell.            PK  Pakistan  Lahore   \n\n  currency  ...                funded_time term_in_months lender_count tags  \\\n0      PKR  ...  2014-01-02 10:06:32+00:00           12.0           12  NaN   \n\n   borrower_genders  repayment_interval        date  year    month day  \n0            female           irregular  2014-01-01  2014  January   1  \n\n[1 rows x 23 columns]",
      "text/html": "<div>\n<style scoped>\n    .dataframe tbody tr th:only-of-type {\n        vertical-align: middle;\n    }\n\n    .dataframe tbody tr th {\n        vertical-align: top;\n    }\n\n    .dataframe thead th {\n        text-align: right;\n    }\n</style>\n<table border=\"1\" class=\"dataframe\">\n  <thead>\n    <tr style=\"text-align: right;\">\n      <th></th>\n      <th>id</th>\n      <th>funded_amount</th>\n      <th>loan_amount</th>\n      <th>activity</th>\n      <th>sector</th>\n      <th>use</th>\n      <th>country_code</th>\n      <th>country</th>\n      <th>region</th>\n      <th>currency</th>\n      <th>...</th>\n      <th>funded_time</th>\n      <th>term_in_months</th>\n      <th>lender_count</th>\n      <th>tags</th>\n      <th>borrower_genders</th>\n      <th>repayment_interval</th>\n      <th>date</th>\n      <th>year</th>\n      <th>month</th>\n      <th>day</th>\n    </tr>\n  </thead>\n  <tbody>\n    <tr>\n      <th>0</th>\n      <td>653051</td>\n      <td>300.0</td>\n      <td>300.0</td>\n      <td>Fruits &amp; Vegetables</td>\n      <td>Food</td>\n      <td>To buy seasonal, fresh fruits to sell.</td>\n      <td>PK</td>\n      <td>Pakistan</td>\n      <td>Lahore</td>\n      <td>PKR</td>\n      <td>...</td>\n      <td>2014-01-02 10:06:32+00:00</td>\n      <td>12.0</td>\n      <td>12</td>\n      <td>NaN</td>\n      <td>female</td>\n      <td>irregular</td>\n      <td>2014-01-01</td>\n      <td>2014</td>\n      <td>January</td>\n      <td>1</td>\n    </tr>\n  </tbody>\n</table>\n<p>1 rows × 23 columns</p>\n</div>"
     },
     "execution_count": 50,
     "metadata": {},
     "output_type": "execute_result"
    }
   ],
   "source": [
    "# Create a New column that contains the month from the data column\n",
    "df['month'] = pd.DatetimeIndex(df['date']).month_name()\n",
    "df.head(1)"
   ]
  },
  {
   "cell_type": "code",
   "execution_count": 51,
   "metadata": {
    "ExecuteTime": {
     "end_time": "2023-06-11T16:20:28.047748600Z",
     "start_time": "2023-06-11T16:20:27.751505500Z"
    }
   },
   "outputs": [
    {
     "data": {
      "text/plain": "       id  funded_amount  loan_amount             activity sector  \\\n0  653051          300.0        300.0  Fruits & Vegetables   Food   \n\n                                       use country_code   country  region  \\\n0  To buy seasonal, fresh fruits to sell.            PK  Pakistan  Lahore   \n\n  currency  ...                funded_time term_in_months lender_count tags  \\\n0      PKR  ...  2014-01-02 10:06:32+00:00           12.0           12  NaN   \n\n   borrower_genders  repayment_interval        date  year    month        day  \n0            female           irregular  2014-01-01  2014  January  Wednesday  \n\n[1 rows x 23 columns]",
      "text/html": "<div>\n<style scoped>\n    .dataframe tbody tr th:only-of-type {\n        vertical-align: middle;\n    }\n\n    .dataframe tbody tr th {\n        vertical-align: top;\n    }\n\n    .dataframe thead th {\n        text-align: right;\n    }\n</style>\n<table border=\"1\" class=\"dataframe\">\n  <thead>\n    <tr style=\"text-align: right;\">\n      <th></th>\n      <th>id</th>\n      <th>funded_amount</th>\n      <th>loan_amount</th>\n      <th>activity</th>\n      <th>sector</th>\n      <th>use</th>\n      <th>country_code</th>\n      <th>country</th>\n      <th>region</th>\n      <th>currency</th>\n      <th>...</th>\n      <th>funded_time</th>\n      <th>term_in_months</th>\n      <th>lender_count</th>\n      <th>tags</th>\n      <th>borrower_genders</th>\n      <th>repayment_interval</th>\n      <th>date</th>\n      <th>year</th>\n      <th>month</th>\n      <th>day</th>\n    </tr>\n  </thead>\n  <tbody>\n    <tr>\n      <th>0</th>\n      <td>653051</td>\n      <td>300.0</td>\n      <td>300.0</td>\n      <td>Fruits &amp; Vegetables</td>\n      <td>Food</td>\n      <td>To buy seasonal, fresh fruits to sell.</td>\n      <td>PK</td>\n      <td>Pakistan</td>\n      <td>Lahore</td>\n      <td>PKR</td>\n      <td>...</td>\n      <td>2014-01-02 10:06:32+00:00</td>\n      <td>12.0</td>\n      <td>12</td>\n      <td>NaN</td>\n      <td>female</td>\n      <td>irregular</td>\n      <td>2014-01-01</td>\n      <td>2014</td>\n      <td>January</td>\n      <td>Wednesday</td>\n    </tr>\n  </tbody>\n</table>\n<p>1 rows × 23 columns</p>\n</div>"
     },
     "execution_count": 51,
     "metadata": {},
     "output_type": "execute_result"
    }
   ],
   "source": [
    "# Create a New column that contains the day from the data column\n",
    "df['day'] = pd.DatetimeIndex(df['date']).day_name()\n",
    "df.head(1)"
   ]
  },
  {
   "cell_type": "code",
   "execution_count": 44,
   "metadata": {
    "ExecuteTime": {
     "end_time": "2023-06-11T16:17:11.525246100Z",
     "start_time": "2023-06-11T16:17:11.493165800Z"
    }
   },
   "outputs": [
    {
     "data": {
      "text/plain": "array(['Pakistan', 'India', 'Kenya', 'Nicaragua', 'El Salvador',\n       'Tanzania', 'Philippines', 'Peru', 'Senegal', 'Cambodia',\n       'Liberia', 'Vietnam', 'Iraq', 'Honduras', 'Palestine', 'Mongolia',\n       'United States', 'Mali', 'Colombia', 'Tajikistan', 'Guatemala',\n       'Ecuador', 'Bolivia', 'Yemen', 'Ghana', 'Sierra Leone', 'Haiti',\n       'Chile', 'Jordan', 'Uganda', 'Burundi', 'Burkina Faso',\n       'Timor-Leste', 'Indonesia', 'Georgia', 'Ukraine', 'Kosovo',\n       'Albania', 'The Democratic Republic of the Congo', 'Costa Rica',\n       'Somalia', 'Zimbabwe', 'Cameroon', 'Turkey', 'Azerbaijan',\n       'Dominican Republic', 'Brazil', 'Mexico', 'Kyrgyzstan', 'Armenia',\n       'Paraguay', 'Lebanon', 'Samoa', 'Israel', 'Rwanda', 'Zambia',\n       'Nepal', 'Congo', 'Mozambique', 'South Africa', 'Togo', 'Benin',\n       'Belize', 'Suriname', 'Thailand', 'Nigeria', 'Mauritania',\n       'Vanuatu', 'Panama', 'Virgin Islands',\n       'Saint Vincent and the Grenadines',\n       \"Lao People's Democratic Republic\", 'Malawi', 'Myanmar (Burma)',\n       'Moldova', 'South Sudan', 'Solomon Islands', 'China', 'Egypt',\n       'Guam', 'Afghanistan', 'Madagascar', 'Namibia', 'Puerto Rico',\n       'Lesotho', \"Cote D'Ivoire\", 'Bhutan'], dtype=object)"
     },
     "execution_count": 44,
     "metadata": {},
     "output_type": "execute_result"
    }
   ],
   "source": [
    "# Print the unique country names\n",
    "df['country'].unique()"
   ]
  },
  {
   "cell_type": "code",
   "execution_count": 45,
   "metadata": {
    "ExecuteTime": {
     "end_time": "2023-06-11T16:17:24.132999400Z",
     "start_time": "2023-06-11T16:17:24.117221900Z"
    }
   },
   "outputs": [
    {
     "data": {
      "text/plain": "87"
     },
     "execution_count": 45,
     "metadata": {},
     "output_type": "execute_result"
    }
   ],
   "source": [
    "# How many unique countries are there\n",
    "df['country'].nunique()"
   ]
  },
  {
   "cell_type": "code",
   "execution_count": 52,
   "metadata": {
    "ExecuteTime": {
     "end_time": "2023-06-11T16:22:01.540775Z",
     "start_time": "2023-06-11T16:22:01.507582500Z"
    }
   },
   "outputs": [
    {
     "data": {
      "text/plain": "         sector      id\n0   Agriculture  180302\n1          Food  136657\n2        Retail  124494\n3      Services   45140\n4  Personal Use   36385",
      "text/html": "<div>\n<style scoped>\n    .dataframe tbody tr th:only-of-type {\n        vertical-align: middle;\n    }\n\n    .dataframe tbody tr th {\n        vertical-align: top;\n    }\n\n    .dataframe thead th {\n        text-align: right;\n    }\n</style>\n<table border=\"1\" class=\"dataframe\">\n  <thead>\n    <tr style=\"text-align: right;\">\n      <th></th>\n      <th>sector</th>\n      <th>id</th>\n    </tr>\n  </thead>\n  <tbody>\n    <tr>\n      <th>0</th>\n      <td>Agriculture</td>\n      <td>180302</td>\n    </tr>\n    <tr>\n      <th>1</th>\n      <td>Food</td>\n      <td>136657</td>\n    </tr>\n    <tr>\n      <th>2</th>\n      <td>Retail</td>\n      <td>124494</td>\n    </tr>\n    <tr>\n      <th>3</th>\n      <td>Services</td>\n      <td>45140</td>\n    </tr>\n    <tr>\n      <th>4</th>\n      <td>Personal Use</td>\n      <td>36385</td>\n    </tr>\n  </tbody>\n</table>\n</div>"
     },
     "execution_count": 52,
     "metadata": {},
     "output_type": "execute_result"
    }
   ],
   "source": [
    "# Create a dataframe called sectors that contains the count of the\n",
    "# number of times a sector appears in the dataset\n",
    "sectors = df.groupby('sector')['id'].count(). \\\n",
    "    sort_values(ascending=False).\\\n",
    "    reset_index()\n",
    "sectors.head()"
   ]
  },
  {
   "cell_type": "code",
   "execution_count": 54,
   "metadata": {
    "ExecuteTime": {
     "end_time": "2023-06-11T16:23:04.628829100Z",
     "start_time": "2023-06-11T16:23:04.620817700Z"
    }
   },
   "outputs": [
    {
     "data": {
      "text/plain": "         Sector   Count\n0   Agriculture  180302\n1          Food  136657\n2        Retail  124494\n3      Services   45140\n4  Personal Use   36385",
      "text/html": "<div>\n<style scoped>\n    .dataframe tbody tr th:only-of-type {\n        vertical-align: middle;\n    }\n\n    .dataframe tbody tr th {\n        vertical-align: top;\n    }\n\n    .dataframe thead th {\n        text-align: right;\n    }\n</style>\n<table border=\"1\" class=\"dataframe\">\n  <thead>\n    <tr style=\"text-align: right;\">\n      <th></th>\n      <th>Sector</th>\n      <th>Count</th>\n    </tr>\n  </thead>\n  <tbody>\n    <tr>\n      <th>0</th>\n      <td>Agriculture</td>\n      <td>180302</td>\n    </tr>\n    <tr>\n      <th>1</th>\n      <td>Food</td>\n      <td>136657</td>\n    </tr>\n    <tr>\n      <th>2</th>\n      <td>Retail</td>\n      <td>124494</td>\n    </tr>\n    <tr>\n      <th>3</th>\n      <td>Services</td>\n      <td>45140</td>\n    </tr>\n    <tr>\n      <th>4</th>\n      <td>Personal Use</td>\n      <td>36385</td>\n    </tr>\n  </tbody>\n</table>\n</div>"
     },
     "execution_count": 54,
     "metadata": {},
     "output_type": "execute_result"
    }
   ],
   "source": [
    "# Rename the id column to count\n",
    "sectors.columns = ['Sector', 'Count']\n",
    "sectors.head()"
   ]
  },
  {
   "cell_type": "code",
   "execution_count": 55,
   "metadata": {
    "ExecuteTime": {
     "end_time": "2023-06-11T16:25:15.618350900Z",
     "start_time": "2023-06-11T16:25:15.579952100Z"
    }
   },
   "outputs": [
    {
     "data": {
      "text/plain": "         sector  loan_amount\n0   Agriculture       180302\n1          Food       136657\n2        Retail       124494\n3      Services        45140\n4  Personal Use        36385",
      "text/html": "<div>\n<style scoped>\n    .dataframe tbody tr th:only-of-type {\n        vertical-align: middle;\n    }\n\n    .dataframe tbody tr th {\n        vertical-align: top;\n    }\n\n    .dataframe thead th {\n        text-align: right;\n    }\n</style>\n<table border=\"1\" class=\"dataframe\">\n  <thead>\n    <tr style=\"text-align: right;\">\n      <th></th>\n      <th>sector</th>\n      <th>loan_amount</th>\n    </tr>\n  </thead>\n  <tbody>\n    <tr>\n      <th>0</th>\n      <td>Agriculture</td>\n      <td>180302</td>\n    </tr>\n    <tr>\n      <th>1</th>\n      <td>Food</td>\n      <td>136657</td>\n    </tr>\n    <tr>\n      <th>2</th>\n      <td>Retail</td>\n      <td>124494</td>\n    </tr>\n    <tr>\n      <th>3</th>\n      <td>Services</td>\n      <td>45140</td>\n    </tr>\n    <tr>\n      <th>4</th>\n      <td>Personal Use</td>\n      <td>36385</td>\n    </tr>\n  </tbody>\n</table>\n</div>"
     },
     "execution_count": 55,
     "metadata": {},
     "output_type": "execute_result"
    }
   ],
   "source": [
    "# Create a dataframe called sector_loan that contains the count of the loan\n",
    "# amounts per sector\n",
    "sector_loan = df.groupby(['sector'])['loan_amount'].count(). \\\n",
    "    sort_values(ascending=False). \\\n",
    "    reset_index()\n",
    "sector_loan.head()"
   ]
  },
  {
   "cell_type": "code",
   "execution_count": 56,
   "metadata": {
    "ExecuteTime": {
     "end_time": "2023-06-11T16:25:27.211255200Z",
     "start_time": "2023-06-11T16:25:27.174560800Z"
    }
   },
   "outputs": [
    {
     "data": {
      "text/plain": "pandas.core.frame.DataFrame"
     },
     "execution_count": 56,
     "metadata": {},
     "output_type": "execute_result"
    }
   ],
   "source": [
    "# Check the type of sector_loan\n",
    "type(sector_loan)"
   ]
  },
  {
   "cell_type": "code",
   "execution_count": 64,
   "metadata": {
    "ExecuteTime": {
     "end_time": "2023-06-11T16:28:04.936395100Z",
     "start_time": "2023-06-11T16:28:04.917581200Z"
    }
   },
   "outputs": [
    {
     "data": {
      "text/plain": "         id  funded_amount  loan_amount               activity sector  \\\n99  1080153         5000.0       5000.0  Food Production/Sales   Food   \n\n                                                  use country_code  \\\n99  hire more staff to keep up with the volume of ...           US   \n\n          country          region currency  ...                funded_time  \\\n99  United States  Unknown_Region      USD  ...  2014-03-11 05:53:06+00:00   \n\n   term_in_months lender_count tags  borrower_genders  repayment_interval  \\\n99           30.0          261  NaN            female             monthly   \n\n          date  year    month       day  \n99  2014-01-02  2014  January  Thursday  \n\n[1 rows x 23 columns]",
      "text/html": "<div>\n<style scoped>\n    .dataframe tbody tr th:only-of-type {\n        vertical-align: middle;\n    }\n\n    .dataframe tbody tr th {\n        vertical-align: top;\n    }\n\n    .dataframe thead th {\n        text-align: right;\n    }\n</style>\n<table border=\"1\" class=\"dataframe\">\n  <thead>\n    <tr style=\"text-align: right;\">\n      <th></th>\n      <th>id</th>\n      <th>funded_amount</th>\n      <th>loan_amount</th>\n      <th>activity</th>\n      <th>sector</th>\n      <th>use</th>\n      <th>country_code</th>\n      <th>country</th>\n      <th>region</th>\n      <th>currency</th>\n      <th>...</th>\n      <th>funded_time</th>\n      <th>term_in_months</th>\n      <th>lender_count</th>\n      <th>tags</th>\n      <th>borrower_genders</th>\n      <th>repayment_interval</th>\n      <th>date</th>\n      <th>year</th>\n      <th>month</th>\n      <th>day</th>\n    </tr>\n  </thead>\n  <tbody>\n    <tr>\n      <th>99</th>\n      <td>1080153</td>\n      <td>5000.0</td>\n      <td>5000.0</td>\n      <td>Food Production/Sales</td>\n      <td>Food</td>\n      <td>hire more staff to keep up with the volume of ...</td>\n      <td>US</td>\n      <td>United States</td>\n      <td>Unknown_Region</td>\n      <td>USD</td>\n      <td>...</td>\n      <td>2014-03-11 05:53:06+00:00</td>\n      <td>30.0</td>\n      <td>261</td>\n      <td>NaN</td>\n      <td>female</td>\n      <td>monthly</td>\n      <td>2014-01-02</td>\n      <td>2014</td>\n      <td>January</td>\n      <td>Thursday</td>\n    </tr>\n  </tbody>\n</table>\n<p>1 rows × 23 columns</p>\n</div>"
     },
     "execution_count": 64,
     "metadata": {},
     "output_type": "execute_result"
    }
   ],
   "source": [
    "# Create a dataframe called usa that contains data from USA only\n",
    "usa = df[df['country'] == 'United States']\n",
    "usa.head(1)"
   ]
  },
  {
   "cell_type": "code",
   "execution_count": 67,
   "metadata": {
    "ExecuteTime": {
     "end_time": "2023-06-11T16:29:25.888336100Z",
     "start_time": "2023-06-11T16:29:25.866170400Z"
    }
   },
   "outputs": [
    {
     "data": {
      "text/plain": "sector       Agriculture       Arts   Clothing  Construction  Education  \\\nloan_amount    2999050.0  1351500.0  1957925.0      435900.0   870125.0   \n\nsector       Entertainment       Food    Health   Housing  Manufacturing  \\\nloan_amount       776725.0  7209975.0  396450.0  242850.0       213300.0   \n\nsector       Personal Use     Retail   Services  Transportation  Wholesale  \nloan_amount      481775.0  4437450.0  9420300.0        597925.0   105125.0  ",
      "text/html": "<div>\n<style scoped>\n    .dataframe tbody tr th:only-of-type {\n        vertical-align: middle;\n    }\n\n    .dataframe tbody tr th {\n        vertical-align: top;\n    }\n\n    .dataframe thead th {\n        text-align: right;\n    }\n</style>\n<table border=\"1\" class=\"dataframe\">\n  <thead>\n    <tr style=\"text-align: right;\">\n      <th>sector</th>\n      <th>Agriculture</th>\n      <th>Arts</th>\n      <th>Clothing</th>\n      <th>Construction</th>\n      <th>Education</th>\n      <th>Entertainment</th>\n      <th>Food</th>\n      <th>Health</th>\n      <th>Housing</th>\n      <th>Manufacturing</th>\n      <th>Personal Use</th>\n      <th>Retail</th>\n      <th>Services</th>\n      <th>Transportation</th>\n      <th>Wholesale</th>\n    </tr>\n  </thead>\n  <tbody>\n    <tr>\n      <th>loan_amount</th>\n      <td>2999050.0</td>\n      <td>1351500.0</td>\n      <td>1957925.0</td>\n      <td>435900.0</td>\n      <td>870125.0</td>\n      <td>776725.0</td>\n      <td>7209975.0</td>\n      <td>396450.0</td>\n      <td>242850.0</td>\n      <td>213300.0</td>\n      <td>481775.0</td>\n      <td>4437450.0</td>\n      <td>9420300.0</td>\n      <td>597925.0</td>\n      <td>105125.0</td>\n    </tr>\n  </tbody>\n</table>\n</div>"
     },
     "execution_count": 67,
     "metadata": {},
     "output_type": "execute_result"
    }
   ],
   "source": [
    "# Create a pivot table that shows the sum of loan amounts per sector\n",
    "pd.pivot_table(usa, values='loan_amount', columns='sector', aggfunc='sum')"
   ]
  },
  {
   "cell_type": "code",
   "execution_count": 69,
   "metadata": {
    "ExecuteTime": {
     "end_time": "2023-06-11T16:30:27.961728100Z",
     "start_time": "2023-06-11T16:30:27.758363Z"
    }
   },
   "outputs": [
    {
     "data": {
      "text/plain": "       id    Loan Theme ID          Loan Theme Type  Partner ID\n0  638631  a1050000000skGl                  General       151.0\n1  640322  a1050000000skGl                  General       151.0\n2  641006  a1050000002X1ij         Higher Education       160.0\n3  641019  a1050000002X1ij         Higher Education       160.0\n4  641594  a1050000002VbsW  Subsistence Agriculture       336.0",
      "text/html": "<div>\n<style scoped>\n    .dataframe tbody tr th:only-of-type {\n        vertical-align: middle;\n    }\n\n    .dataframe tbody tr th {\n        vertical-align: top;\n    }\n\n    .dataframe thead th {\n        text-align: right;\n    }\n</style>\n<table border=\"1\" class=\"dataframe\">\n  <thead>\n    <tr style=\"text-align: right;\">\n      <th></th>\n      <th>id</th>\n      <th>Loan Theme ID</th>\n      <th>Loan Theme Type</th>\n      <th>Partner ID</th>\n    </tr>\n  </thead>\n  <tbody>\n    <tr>\n      <th>0</th>\n      <td>638631</td>\n      <td>a1050000000skGl</td>\n      <td>General</td>\n      <td>151.0</td>\n    </tr>\n    <tr>\n      <th>1</th>\n      <td>640322</td>\n      <td>a1050000000skGl</td>\n      <td>General</td>\n      <td>151.0</td>\n    </tr>\n    <tr>\n      <th>2</th>\n      <td>641006</td>\n      <td>a1050000002X1ij</td>\n      <td>Higher Education</td>\n      <td>160.0</td>\n    </tr>\n    <tr>\n      <th>3</th>\n      <td>641019</td>\n      <td>a1050000002X1ij</td>\n      <td>Higher Education</td>\n      <td>160.0</td>\n    </tr>\n    <tr>\n      <th>4</th>\n      <td>641594</td>\n      <td>a1050000002VbsW</td>\n      <td>Subsistence Agriculture</td>\n      <td>336.0</td>\n    </tr>\n  </tbody>\n</table>\n</div>"
     },
     "execution_count": 69,
     "metadata": {},
     "output_type": "execute_result"
    }
   ],
   "source": [
    "# Load in the themes data as themes\n",
    "themes = pd.read_csv('data/loan_theme_ids.csv')\n",
    "themes.head()"
   ]
  },
  {
   "cell_type": "code",
   "execution_count": 70,
   "metadata": {
    "ExecuteTime": {
     "end_time": "2023-06-11T16:30:42.961974800Z",
     "start_time": "2023-06-11T16:30:42.941364900Z"
    }
   },
   "outputs": [
    {
     "data": {
      "text/plain": "Index(['id', 'Loan Theme ID', 'Loan Theme Type', 'Partner ID'], dtype='object')"
     },
     "execution_count": 70,
     "metadata": {},
     "output_type": "execute_result"
    }
   ],
   "source": [
    "# Display the columns in the themes dataset\n",
    "themes.columns"
   ]
  },
  {
   "cell_type": "code",
   "execution_count": 71,
   "metadata": {
    "ExecuteTime": {
     "end_time": "2023-06-11T16:30:49.827906600Z",
     "start_time": "2023-06-11T16:30:49.807886300Z"
    }
   },
   "outputs": [
    {
     "data": {
      "text/plain": "Index(['id', 'funded_amount', 'loan_amount', 'activity', 'sector', 'use',\n       'country_code', 'country', 'region', 'currency', 'partner_id',\n       'posted_time', 'disbursed_time', 'funded_time', 'term_in_months',\n       'lender_count', 'tags', 'borrower_genders', 'repayment_interval',\n       'date', 'year', 'month', 'day'],\n      dtype='object')"
     },
     "execution_count": 71,
     "metadata": {},
     "output_type": "execute_result"
    }
   ],
   "source": [
    "# Display the columns in df\n",
    "df.columns"
   ]
  },
  {
   "cell_type": "code",
   "execution_count": 75,
   "metadata": {
    "ExecuteTime": {
     "end_time": "2023-06-11T16:33:33.091640600Z",
     "start_time": "2023-06-11T16:33:32.563868700Z"
    }
   },
   "outputs": [
    {
     "data": {
      "text/plain": "             id  funded_amount  loan_amount        activity          sector  \\\n0        653053          575.0        575.0        Rickshaw  Transportation   \n1        653068          150.0        150.0  Transportation  Transportation   \n2        653063          200.0        200.0      Embroidery            Arts   \n3        653084          400.0        400.0      Milk Sales            Food   \n4       1080148          250.0        250.0        Services        Services   \n...         ...            ...          ...             ...             ...   \n671194  1340323            0.0         25.0       Livestock     Agriculture   \n671195  1340316           25.0         25.0       Livestock     Agriculture   \n671196  1340334            0.0         25.0           Games   Entertainment   \n671197  1340338            0.0         25.0       Livestock     Agriculture   \n671198  1340339            0.0         25.0       Livestock     Agriculture   \n\n                                                      use country_code  \\\n0       to repair and maintain the auto rickshaw used ...           PK   \n1       To repair their old cycle-van and buy another ...           IN   \n2       to purchase an embroidery machine and a variet...           PK   \n3                                to purchase one buffalo.           PK   \n4       purchase leather for my business using ksh 20000.           KE   \n...                                                   ...          ...   \n671194  [True, u'para compara: cemento, arenya y ladri...           PY   \n671195  [True, u'to start a turducken farm.'] - this l...           KE   \n671196                                     RECORD UNKNOWN           KE   \n671197  [True, u'to start a turducken farm.'] - this l...           KE   \n671198  [True, u'to start a turducken farm.'] - this l...           KE   \n\n         country          region currency  ...                          tags  \\\n0       Pakistan          Lahore      PKR  ...                           NaN   \n1          India       Maynaguri      INR  ...  user_favorite, user_favorite   \n2       Pakistan          Lahore      PKR  ...                           NaN   \n3       Pakistan    Abdul Hakeem      PKR  ...                           NaN   \n4          Kenya  Unknown_Region      KES  ...                           NaN   \n...          ...             ...      ...  ...                           ...   \n671194  Paraguay      Concepción      USD  ...                           NaN   \n671195     Kenya  Unknown_Region      KES  ...                           NaN   \n671196     Kenya  Unknown_Region      KES  ...                           NaN   \n671197     Kenya  Unknown_Region      KES  ...                           NaN   \n671198     Kenya  Unknown_Region      KES  ...                           NaN   \n\n       borrower_genders repayment_interval        date  year    month  \\\n0        female, female          irregular  2014-01-01  2014  January   \n1                female             bullet  2014-01-01  2014  January   \n2                female          irregular  2014-01-01  2014  January   \n3                female            monthly  2014-01-01  2014  January   \n4                female          irregular  2014-01-01  2014  January   \n...                 ...                ...         ...   ...      ...   \n671194           female            monthly  2017-07-25  2017     July   \n671195           female            monthly  2017-07-25  2017     July   \n671196              NaN            monthly  2017-07-26  2017     July   \n671197           female            monthly  2017-07-26  2017     July   \n671198           female            monthly  2017-07-26  2017     July   \n\n              day    Loan Theme ID Loan Theme Type Partner ID  \n0       Wednesday  a1050000000sjEC     Underserved      247.0  \n1       Wednesday  a1050000002VkWz     Underserved      334.0  \n2       Wednesday  a1050000000sjEC     Underserved      247.0  \n3       Wednesday  a1050000000wf22         General      245.0  \n4       Wednesday              NaN             NaN        NaN  \n...           ...              ...             ...        ...  \n671194    Tuesday  a1050000000wf0q         General      145.0  \n671195    Tuesday  a1050000000wf0q         General      145.0  \n671196  Wednesday  a1050000000wf0q         General      145.0  \n671197  Wednesday  a1050000000wf0q         General      145.0  \n671198  Wednesday  a1050000005nzX8           Water      311.0  \n\n[671199 rows x 26 columns]",
      "text/html": "<div>\n<style scoped>\n    .dataframe tbody tr th:only-of-type {\n        vertical-align: middle;\n    }\n\n    .dataframe tbody tr th {\n        vertical-align: top;\n    }\n\n    .dataframe thead th {\n        text-align: right;\n    }\n</style>\n<table border=\"1\" class=\"dataframe\">\n  <thead>\n    <tr style=\"text-align: right;\">\n      <th></th>\n      <th>id</th>\n      <th>funded_amount</th>\n      <th>loan_amount</th>\n      <th>activity</th>\n      <th>sector</th>\n      <th>use</th>\n      <th>country_code</th>\n      <th>country</th>\n      <th>region</th>\n      <th>currency</th>\n      <th>...</th>\n      <th>tags</th>\n      <th>borrower_genders</th>\n      <th>repayment_interval</th>\n      <th>date</th>\n      <th>year</th>\n      <th>month</th>\n      <th>day</th>\n      <th>Loan Theme ID</th>\n      <th>Loan Theme Type</th>\n      <th>Partner ID</th>\n    </tr>\n  </thead>\n  <tbody>\n    <tr>\n      <th>0</th>\n      <td>653053</td>\n      <td>575.0</td>\n      <td>575.0</td>\n      <td>Rickshaw</td>\n      <td>Transportation</td>\n      <td>to repair and maintain the auto rickshaw used ...</td>\n      <td>PK</td>\n      <td>Pakistan</td>\n      <td>Lahore</td>\n      <td>PKR</td>\n      <td>...</td>\n      <td>NaN</td>\n      <td>female, female</td>\n      <td>irregular</td>\n      <td>2014-01-01</td>\n      <td>2014</td>\n      <td>January</td>\n      <td>Wednesday</td>\n      <td>a1050000000sjEC</td>\n      <td>Underserved</td>\n      <td>247.0</td>\n    </tr>\n    <tr>\n      <th>1</th>\n      <td>653068</td>\n      <td>150.0</td>\n      <td>150.0</td>\n      <td>Transportation</td>\n      <td>Transportation</td>\n      <td>To repair their old cycle-van and buy another ...</td>\n      <td>IN</td>\n      <td>India</td>\n      <td>Maynaguri</td>\n      <td>INR</td>\n      <td>...</td>\n      <td>user_favorite, user_favorite</td>\n      <td>female</td>\n      <td>bullet</td>\n      <td>2014-01-01</td>\n      <td>2014</td>\n      <td>January</td>\n      <td>Wednesday</td>\n      <td>a1050000002VkWz</td>\n      <td>Underserved</td>\n      <td>334.0</td>\n    </tr>\n    <tr>\n      <th>2</th>\n      <td>653063</td>\n      <td>200.0</td>\n      <td>200.0</td>\n      <td>Embroidery</td>\n      <td>Arts</td>\n      <td>to purchase an embroidery machine and a variet...</td>\n      <td>PK</td>\n      <td>Pakistan</td>\n      <td>Lahore</td>\n      <td>PKR</td>\n      <td>...</td>\n      <td>NaN</td>\n      <td>female</td>\n      <td>irregular</td>\n      <td>2014-01-01</td>\n      <td>2014</td>\n      <td>January</td>\n      <td>Wednesday</td>\n      <td>a1050000000sjEC</td>\n      <td>Underserved</td>\n      <td>247.0</td>\n    </tr>\n    <tr>\n      <th>3</th>\n      <td>653084</td>\n      <td>400.0</td>\n      <td>400.0</td>\n      <td>Milk Sales</td>\n      <td>Food</td>\n      <td>to purchase one buffalo.</td>\n      <td>PK</td>\n      <td>Pakistan</td>\n      <td>Abdul Hakeem</td>\n      <td>PKR</td>\n      <td>...</td>\n      <td>NaN</td>\n      <td>female</td>\n      <td>monthly</td>\n      <td>2014-01-01</td>\n      <td>2014</td>\n      <td>January</td>\n      <td>Wednesday</td>\n      <td>a1050000000wf22</td>\n      <td>General</td>\n      <td>245.0</td>\n    </tr>\n    <tr>\n      <th>4</th>\n      <td>1080148</td>\n      <td>250.0</td>\n      <td>250.0</td>\n      <td>Services</td>\n      <td>Services</td>\n      <td>purchase leather for my business using ksh 20000.</td>\n      <td>KE</td>\n      <td>Kenya</td>\n      <td>Unknown_Region</td>\n      <td>KES</td>\n      <td>...</td>\n      <td>NaN</td>\n      <td>female</td>\n      <td>irregular</td>\n      <td>2014-01-01</td>\n      <td>2014</td>\n      <td>January</td>\n      <td>Wednesday</td>\n      <td>NaN</td>\n      <td>NaN</td>\n      <td>NaN</td>\n    </tr>\n    <tr>\n      <th>...</th>\n      <td>...</td>\n      <td>...</td>\n      <td>...</td>\n      <td>...</td>\n      <td>...</td>\n      <td>...</td>\n      <td>...</td>\n      <td>...</td>\n      <td>...</td>\n      <td>...</td>\n      <td>...</td>\n      <td>...</td>\n      <td>...</td>\n      <td>...</td>\n      <td>...</td>\n      <td>...</td>\n      <td>...</td>\n      <td>...</td>\n      <td>...</td>\n      <td>...</td>\n      <td>...</td>\n    </tr>\n    <tr>\n      <th>671194</th>\n      <td>1340323</td>\n      <td>0.0</td>\n      <td>25.0</td>\n      <td>Livestock</td>\n      <td>Agriculture</td>\n      <td>[True, u'para compara: cemento, arenya y ladri...</td>\n      <td>PY</td>\n      <td>Paraguay</td>\n      <td>Concepción</td>\n      <td>USD</td>\n      <td>...</td>\n      <td>NaN</td>\n      <td>female</td>\n      <td>monthly</td>\n      <td>2017-07-25</td>\n      <td>2017</td>\n      <td>July</td>\n      <td>Tuesday</td>\n      <td>a1050000000wf0q</td>\n      <td>General</td>\n      <td>145.0</td>\n    </tr>\n    <tr>\n      <th>671195</th>\n      <td>1340316</td>\n      <td>25.0</td>\n      <td>25.0</td>\n      <td>Livestock</td>\n      <td>Agriculture</td>\n      <td>[True, u'to start a turducken farm.'] - this l...</td>\n      <td>KE</td>\n      <td>Kenya</td>\n      <td>Unknown_Region</td>\n      <td>KES</td>\n      <td>...</td>\n      <td>NaN</td>\n      <td>female</td>\n      <td>monthly</td>\n      <td>2017-07-25</td>\n      <td>2017</td>\n      <td>July</td>\n      <td>Tuesday</td>\n      <td>a1050000000wf0q</td>\n      <td>General</td>\n      <td>145.0</td>\n    </tr>\n    <tr>\n      <th>671196</th>\n      <td>1340334</td>\n      <td>0.0</td>\n      <td>25.0</td>\n      <td>Games</td>\n      <td>Entertainment</td>\n      <td>RECORD UNKNOWN</td>\n      <td>KE</td>\n      <td>Kenya</td>\n      <td>Unknown_Region</td>\n      <td>KES</td>\n      <td>...</td>\n      <td>NaN</td>\n      <td>NaN</td>\n      <td>monthly</td>\n      <td>2017-07-26</td>\n      <td>2017</td>\n      <td>July</td>\n      <td>Wednesday</td>\n      <td>a1050000000wf0q</td>\n      <td>General</td>\n      <td>145.0</td>\n    </tr>\n    <tr>\n      <th>671197</th>\n      <td>1340338</td>\n      <td>0.0</td>\n      <td>25.0</td>\n      <td>Livestock</td>\n      <td>Agriculture</td>\n      <td>[True, u'to start a turducken farm.'] - this l...</td>\n      <td>KE</td>\n      <td>Kenya</td>\n      <td>Unknown_Region</td>\n      <td>KES</td>\n      <td>...</td>\n      <td>NaN</td>\n      <td>female</td>\n      <td>monthly</td>\n      <td>2017-07-26</td>\n      <td>2017</td>\n      <td>July</td>\n      <td>Wednesday</td>\n      <td>a1050000000wf0q</td>\n      <td>General</td>\n      <td>145.0</td>\n    </tr>\n    <tr>\n      <th>671198</th>\n      <td>1340339</td>\n      <td>0.0</td>\n      <td>25.0</td>\n      <td>Livestock</td>\n      <td>Agriculture</td>\n      <td>[True, u'to start a turducken farm.'] - this l...</td>\n      <td>KE</td>\n      <td>Kenya</td>\n      <td>Unknown_Region</td>\n      <td>KES</td>\n      <td>...</td>\n      <td>NaN</td>\n      <td>female</td>\n      <td>monthly</td>\n      <td>2017-07-26</td>\n      <td>2017</td>\n      <td>July</td>\n      <td>Wednesday</td>\n      <td>a1050000005nzX8</td>\n      <td>Water</td>\n      <td>311.0</td>\n    </tr>\n  </tbody>\n</table>\n<p>671199 rows × 26 columns</p>\n</div>"
     },
     "execution_count": 75,
     "metadata": {},
     "output_type": "execute_result"
    }
   ],
   "source": [
    "# Merge the themes data frame with df\n",
    "# and display the merged data frame\n",
    "merged = pd.merge(df, themes, on = 'id')\n",
    "merged"
   ]
  },
  {
   "cell_type": "code",
   "execution_count": 74,
   "metadata": {
    "ExecuteTime": {
     "end_time": "2023-06-11T16:32:59.930331300Z",
     "start_time": "2023-06-11T16:32:59.895260600Z"
    }
   },
   "outputs": [
    {
     "data": {
      "text/plain": "array(['General', 'Higher Education', 'Subsistence Agriculture',\n       'Extreme Poverty', 'Underserved', 'Mobile Transactions', 'Green',\n       'End Consumer Finance', 'Agriculture', 'Vulnerable Women',\n       'Full Tuition', 'Business in a Box', 'Organic Conversion',\n       'Startup', 'Youth', 'Rural Inclusion', 'WLIFT', 'Retailer Finance',\n       'FUSAI', 'Water', 'Unbanked', 'Conflict Zone',\n       \"Hai Duong Women's Union\", 'At-Risk Youth', 'Housing Improvement',\n       'Haiti', 'Youth Entrepreneurship', 'Primary/Secondary Education',\n       'Vulnerable Populations', 'Murabaha', 'Small Enterprise',\n       'Agricultural Equipment', 'Artisan', 'Murabaha Youth',\n       'Kiva City LA', 'Disaster Recovery', 'First/Second Chance',\n       'Women Without Poverty', 'Agricultural Infrastructure',\n       'CAMEO Partnership', 'Safe Water System for Institution',\n       'Rural Conflict Zone', 'SME', 'Biodigester',\n       'Clients below the poverty line', 'Distributor Finance - India',\n       'Business Development Services', 'Sanitation',\n       'Distributor Finance', 'Kiva City Newark',\n       'Small Business Investment Loan', 'Solar Home Systems',\n       'Water and Sanitation', 'Microfranchise', 'Qard Hassan',\n       'Vocational Training', 'Kiva City D.C.', 'Low income students',\n       'Village Bank', 'Islamic Product', 'Coffee Production',\n       'Field Renewal', 'Health', 'General (Women)', 'Startup (Women)',\n       'Future Greens Samsthe', 'Partial Tuition', 'Silvopasture', 'MESP',\n       'Profit-linked debt', 'Sahaja Samrudha', 'Equipment Purchase',\n       'Youth (Women)', 'Primary/Secondary Education (Large)',\n       'WLIFT-Youth', 'Sustainable farming activities',\n       'Higher Education (Women)', 'WLIFT-Conflict Zone', 'Intercropping',\n       'Higher Education for Vulnerable Groups', 'Conflict Zone (Women)',\n       'Asset Finance', 'Graduating Agriculture Loan', 'Sabuj Sangha',\n       'MASS', 'Women Entrepreneurs', 'Seasonal Worker', 'PAT',\n       'Hydrologic', 'Recycled material activities', 'Solar refrigerator',\n       'Redemption', 'Clean Energy', 'Flexible loan conditions', 'Zaf̬n',\n       'Driptech', 'Flexible loan with reduced interest',\n       'Vulnerable Populations (Syrian)', 'Micro-grid', 'School Finance',\n       'Reduced Interest Rate', 'Community Impact Loan',\n       'Startup (Youth)', 'Detroit', 'Control Group - Research Study',\n       'Vulnerable Populations (Palestinian)', 'Vocational High School',\n       'CPO - LKM', 'Conflict Zone (Gaza)',\n       'Agroforestry: Plantation Establishment',\n       'Human Capital Contracts', 'Education', 'Salaried Workers',\n       'Value Chain', 'Senior Citizens', 'Bridge/Income Smoothing',\n       'Prayas: General', 'Subsistence Agriculture and Solar Lanterns',\n       'Disabled Entrepreneurs', 'Biogas', 'Promesa',\n       'Mobile transactions - electronic float advance', 'Microforestry',\n       'Single mothers', \"Ninh Binh Women's Union\",\n       'Higher Education Murabaha', 'FUSAI Water and Sanitation',\n       'Green Murabaha', 'Education Technology', 'Panama',\n       'Startup Murabaha', 'Veterans', 'Solar water pump',\n       'Indigenous Communities', 'Bee Hive', 'Tool Box Loan',\n       'Sustainable Solar Service Package',\n       'Mobile transactions - capital growth loan.',\n       'Passion Fruit Production', 'Solar Lamps', 'FUSAI Green',\n       'Clean Cookstove', 'Underserved (large)', 'Laptop',\n       \"Youth Volunteer's Union\", 'Guardian: Water and Sanitation',\n       'Underserved (Women)', 'Gramalaya Microfin Foundation',\n       'Displaced Populations', 'Imagen Dental',\n       'Cluster Enterprise Development', 'Education - Cambodia',\n       'Finance to Cooperative', 'Underserved (non-Lebanese)',\n       'Microenterprise (Group)',\n       'Vulnerable Populations (Physical Disabilities)',\n       'Conflict Zone (Gaza Businesses)', 'Education - Kenya',\n       'Home Energy Conservation', 'SMGBK: General', 'Swayamshree: Green',\n       'Single mothers entrepreneurs', 'Franchise Package',\n       'Kubo Experiment - No credit history', 'Swayamshree: General',\n       'Vulnerable Populations (Iraqi)', 'Solar electric fence',\n       'UBER Drivers', 'Agriculture (Women)', 'Inventory',\n       'Women in agriculture', nan, 'Mahashakti: Underserved',\n       'Micro-enterprise', 'Agricultural Labor',\n       'Prayas: Water and Sanitation', 'Livestock and Fishing',\n       'Organic Agriculture', 'Cacao Production', 'Cacao Field Renewal',\n       'Laptop (Refugee)', 'Motorbike', 'Apani: General',\n       'Clean Water Franchise', 'Women micro-business',\n       'Mahashakti: Education', 'Vulnerable Populations (Refugees)',\n       'Gram Utthan: Sanitation', 'BJS: Underserved',\n       'Female headed households', 'SME (Tanzania)',\n       'Vulnerable Populations (Syrian)2',\n       'Vulnerable Populations (Refugees)2', 'Vulnerable Populations2',\n       'Displaced Populations2', 'Vulnerable Populations3',\n       'Vulnerable Populations (Syrian)3',\n       'Vulnerable Populations (Refugees)3', 'Clean Water Delivery',\n       'Communities affected by War',\n       'Subsistence Agriculture and Solar Lanterns-Tanzania',\n       'Agroforesty: Plantation Maintenance', 'Chanura: General',\n       'Property Rights'], dtype=object)"
     },
     "execution_count": 74,
     "metadata": {},
     "output_type": "execute_result"
    }
   ],
   "source": [
    "# Print the unique loan theme types\n",
    "themes['Loan Theme Type'].unique()"
   ]
  },
  {
   "cell_type": "code",
   "execution_count": 76,
   "metadata": {
    "ExecuteTime": {
     "end_time": "2023-06-11T16:34:25.488396700Z",
     "start_time": "2023-06-11T16:34:25.437898600Z"
    }
   },
   "outputs": [
    {
     "data": {
      "text/plain": "   Loan Theme Type            id\n0          General  325427726853\n1      Underserved   52616619563\n2      Agriculture   32611661002\n3  Rural Inclusion   18382060342\n4            Water   18267003011",
      "text/html": "<div>\n<style scoped>\n    .dataframe tbody tr th:only-of-type {\n        vertical-align: middle;\n    }\n\n    .dataframe tbody tr th {\n        vertical-align: top;\n    }\n\n    .dataframe thead th {\n        text-align: right;\n    }\n</style>\n<table border=\"1\" class=\"dataframe\">\n  <thead>\n    <tr style=\"text-align: right;\">\n      <th></th>\n      <th>Loan Theme Type</th>\n      <th>id</th>\n    </tr>\n  </thead>\n  <tbody>\n    <tr>\n      <th>0</th>\n      <td>General</td>\n      <td>325427726853</td>\n    </tr>\n    <tr>\n      <th>1</th>\n      <td>Underserved</td>\n      <td>52616619563</td>\n    </tr>\n    <tr>\n      <th>2</th>\n      <td>Agriculture</td>\n      <td>32611661002</td>\n    </tr>\n    <tr>\n      <th>3</th>\n      <td>Rural Inclusion</td>\n      <td>18382060342</td>\n    </tr>\n    <tr>\n      <th>4</th>\n      <td>Water</td>\n      <td>18267003011</td>\n    </tr>\n  </tbody>\n</table>\n</div>"
     },
     "execution_count": 76,
     "metadata": {},
     "output_type": "execute_result"
    }
   ],
   "source": [
    "# Which are the most prominent loan themes by id count\n",
    "merged.groupby(['Loan Theme Type'])['id'].sum(). \\\n",
    "    sort_values(ascending=False). \\\n",
    "    reset_index(). \\\n",
    "    head(5)"
   ]
  },
  {
   "cell_type": "markdown",
   "metadata": {},
   "source": [
    "Happy Coding!"
   ]
  }
 ],
 "metadata": {
  "kernelspec": {
   "display_name": "Python 3",
   "language": "python",
   "name": "python3"
  },
  "language_info": {
   "codemirror_mode": {
    "name": "ipython",
    "version": 3
   },
   "file_extension": ".py",
   "mimetype": "text/x-python",
   "name": "python",
   "nbconvert_exporter": "python",
   "pygments_lexer": "ipython3",
   "version": "3.8.2"
  }
 },
 "nbformat": 4,
 "nbformat_minor": 4
}
